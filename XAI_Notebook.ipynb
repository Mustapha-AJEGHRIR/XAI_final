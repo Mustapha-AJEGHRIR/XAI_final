{
 "cells": [
  {
   "cell_type": "markdown",
   "metadata": {
    "id": "9G8Ussw706Eb"
   },
   "source": [
    "# HeadMind Partners XAI Class - Resignation prediction"
   ]
  },
  {
   "cell_type": "markdown",
   "metadata": {},
   "source": [
    "<img src=https://mma.prnewswire.com/media/1715842/HeadMind_Partners_Logo.jpg width=\"500\">"
   ]
  },
  {
   "cell_type": "markdown",
   "metadata": {},
   "source": [
    "<img src=https://www.centralesupelec.fr/sites/all/themes/cs_theme/medias/common/images/intro/logo.png width=\"500\">"
   ]
  },
  {
   "cell_type": "markdown",
   "metadata": {},
   "source": [
    "*Context*\n",
    "\n",
    "A company faces a large turnover rate and has difficulties to anticipate the resignations. The stakes are numerous : projects are delayed, excessive costs are incurred ... To overcome such a problem, the company decided to implement an AI approach to try to predict the resignations **within the 6 next months**. A confidence score would be really appreciated to estimate the risk of resignations for each employees.\n",
    "\n",
    "*Dataset*\n",
    "\n",
    "The HR dataset used for this course is generated from an existing HR dataset. The latter has been anonymized and then artificially generated using a *Variational Auto-Encoder*. Those generated data are gathered in a *pickle* file that will be later on loaded. This *pickle* file is composed of :\n",
    "- **a pandas DataFrame X** including all the **HR features** needed to implement a ML Model\n",
    "- **a numpy array Y** representing **the labels**:\n",
    "    - 0 : the corresponding employee did not resign within the 6 next months\n",
    "    - 1 : the corresponding employee did resign within the 6 next months\n",
    "\n",
    "\n",
    "The labels are not well balanced ie there are far less resignated employees within the 6 next months. Decisions must be taken on this matter. On the other hands, many external factors influence the employees' decision which are not necesseraly in the HR dataset.\n",
    "\n",
    "*Objectives*\n",
    "\n",
    "- Preprocessing of the input data and HR data exploration\n",
    "- ML model implementation\n",
    "- Implement explainability of the predictions using SHAPASH\n",
    "- Improve the first model considering the explainability outcomes\n",
    "\n",
    "\n",
    "*Notebook by Rémi Grand and Vadim Becquet (Headmind Partners AI & Blockchain)*"
   ]
  },
  {
   "cell_type": "markdown",
   "metadata": {
    "id": "dlm07fMcEZ-h"
   },
   "source": [
    "## Import the recommended libraries"
   ]
  },
  {
   "cell_type": "code",
   "execution_count": 1,
   "metadata": {
    "colab": {
     "base_uri": "https://localhost:8080/"
    },
    "id": "LmDYJwTT06Eg",
    "outputId": "66b2614e-43f9-4ab5-b8dd-ad2c786b18c9"
   },
   "outputs": [],
   "source": [
    "# !pip install -r requirements.txt"
   ]
  },
  {
   "cell_type": "code",
   "execution_count": 1,
   "metadata": {
    "id": "MozdeM8x06Ek"
   },
   "outputs": [
    {
     "name": "stderr",
     "output_type": "stream",
     "text": [
      "<frozen importlib._bootstrap>:228: RuntimeWarning: scipy._lib.messagestream.MessageStream size changed, may indicate binary incompatibility. Expected 56 from C header, got 64 from PyObject\n"
     ]
    }
   ],
   "source": [
    "import pickle\n",
    "import pandas as pd\n",
    "import numpy as np\n",
    "import optuna\n",
    "import matplotlib.pyplot as plt\n",
    "import seaborn as sns\n",
    "\n",
    "from xgboost import XGBClassifier\n",
    "from sklearn.utils.class_weight import compute_sample_weight\n",
    "from sklearn.ensemble import RandomForestClassifier\n",
    "from sklearn.metrics import log_loss, roc_auc_score, plot_confusion_matrix\n",
    "from sklearn.model_selection import train_test_split, KFold\n",
    "from category_encoders import OneHotEncoder, OrdinalEncoder\n",
    "from IPython.display import display\n",
    "\n",
    "plt.style.use('seaborn-whitegrid')\n",
    "sns.set_theme()"
   ]
  },
  {
   "cell_type": "markdown",
   "metadata": {
    "id": "18GVaSz6EZ-l"
   },
   "source": [
    "## Load and explore the dataset\n",
    "\n",
    "The dataset needs to be extracted from the pickle file previously mentionned. **The dataset does not contain missing values** to focus rather on the statistical exploration.\n",
    "\n",
    "The dataset includes employees from 2016 to 2020. "
   ]
  },
  {
   "cell_type": "code",
   "execution_count": 2,
   "metadata": {
    "colab": {
     "base_uri": "https://localhost:8080/",
     "height": 305
    },
    "id": "ujoWWIF-06El",
    "outputId": "3cca8581-cc79-4e68-9cdf-ccaa7966f18d"
   },
   "outputs": [
    {
     "data": {
      "text/html": [
       "<div>\n",
       "<style scoped>\n",
       "    .dataframe tbody tr th:only-of-type {\n",
       "        vertical-align: middle;\n",
       "    }\n",
       "\n",
       "    .dataframe tbody tr th {\n",
       "        vertical-align: top;\n",
       "    }\n",
       "\n",
       "    .dataframe thead th {\n",
       "        text-align: right;\n",
       "    }\n",
       "</style>\n",
       "<table border=\"1\" class=\"dataframe\">\n",
       "  <thead>\n",
       "    <tr style=\"text-align: right;\">\n",
       "      <th></th>\n",
       "      <th>Famille d'emploi</th>\n",
       "      <th>Dernière promotion (mois)</th>\n",
       "      <th>Dernière augmentation (mois)</th>\n",
       "      <th>Début de contrat (années)</th>\n",
       "      <th>Ancienneté groupe (années)</th>\n",
       "      <th>Etablissement</th>\n",
       "      <th>Âge (années)</th>\n",
       "      <th>Parent</th>\n",
       "      <th>Niveau hiérarchique</th>\n",
       "      <th>Salaire (Euros)</th>\n",
       "      <th>Statut marital</th>\n",
       "      <th>Véhicule</th>\n",
       "      <th>matricule</th>\n",
       "    </tr>\n",
       "  </thead>\n",
       "  <tbody>\n",
       "    <tr>\n",
       "      <th>0</th>\n",
       "      <td>Production</td>\n",
       "      <td>8.510000</td>\n",
       "      <td>7.900000</td>\n",
       "      <td>0.910000</td>\n",
       "      <td>0.970000</td>\n",
       "      <td>27</td>\n",
       "      <td>30</td>\n",
       "      <td>1</td>\n",
       "      <td>1</td>\n",
       "      <td>3199</td>\n",
       "      <td>Marié(e)</td>\n",
       "      <td>0</td>\n",
       "      <td>32</td>\n",
       "    </tr>\n",
       "    <tr>\n",
       "      <th>1</th>\n",
       "      <td>Production</td>\n",
       "      <td>35.119999</td>\n",
       "      <td>22.690001</td>\n",
       "      <td>14.830000</td>\n",
       "      <td>16.299999</td>\n",
       "      <td>7</td>\n",
       "      <td>45</td>\n",
       "      <td>1</td>\n",
       "      <td>2</td>\n",
       "      <td>3861</td>\n",
       "      <td>Marié(e)</td>\n",
       "      <td>1</td>\n",
       "      <td>1890</td>\n",
       "    </tr>\n",
       "    <tr>\n",
       "      <th>2</th>\n",
       "      <td>Production</td>\n",
       "      <td>25.299999</td>\n",
       "      <td>22.139999</td>\n",
       "      <td>17.309999</td>\n",
       "      <td>17.790001</td>\n",
       "      <td>28</td>\n",
       "      <td>49</td>\n",
       "      <td>1</td>\n",
       "      <td>2</td>\n",
       "      <td>4324</td>\n",
       "      <td>PACS</td>\n",
       "      <td>1</td>\n",
       "      <td>1847</td>\n",
       "    </tr>\n",
       "    <tr>\n",
       "      <th>3</th>\n",
       "      <td>Production</td>\n",
       "      <td>5.240000</td>\n",
       "      <td>5.100000</td>\n",
       "      <td>1.020000</td>\n",
       "      <td>1.750000</td>\n",
       "      <td>27</td>\n",
       "      <td>24</td>\n",
       "      <td>0</td>\n",
       "      <td>1</td>\n",
       "      <td>2641</td>\n",
       "      <td>Célibataire</td>\n",
       "      <td>0</td>\n",
       "      <td>2619</td>\n",
       "    </tr>\n",
       "    <tr>\n",
       "      <th>4</th>\n",
       "      <td>Production</td>\n",
       "      <td>35.919998</td>\n",
       "      <td>22.840000</td>\n",
       "      <td>8.050000</td>\n",
       "      <td>9.000000</td>\n",
       "      <td>7</td>\n",
       "      <td>46</td>\n",
       "      <td>1</td>\n",
       "      <td>2</td>\n",
       "      <td>5072</td>\n",
       "      <td>Marié(e)</td>\n",
       "      <td>1</td>\n",
       "      <td>1963</td>\n",
       "    </tr>\n",
       "  </tbody>\n",
       "</table>\n",
       "</div>"
      ],
      "text/plain": [
       "  Famille d'emploi  Dernière promotion (mois)  Dernière augmentation (mois)  \\\n",
       "0       Production                   8.510000                      7.900000   \n",
       "1       Production                  35.119999                     22.690001   \n",
       "2       Production                  25.299999                     22.139999   \n",
       "3       Production                   5.240000                      5.100000   \n",
       "4       Production                  35.919998                     22.840000   \n",
       "\n",
       "   Début de contrat (années)  Ancienneté groupe (années)  Etablissement  \\\n",
       "0                   0.910000                    0.970000             27   \n",
       "1                  14.830000                   16.299999              7   \n",
       "2                  17.309999                   17.790001             28   \n",
       "3                   1.020000                    1.750000             27   \n",
       "4                   8.050000                    9.000000              7   \n",
       "\n",
       "   Âge (années)  Parent  Niveau hiérarchique  Salaire (Euros) Statut marital  \\\n",
       "0            30       1                    1             3199       Marié(e)   \n",
       "1            45       1                    2             3861       Marié(e)   \n",
       "2            49       1                    2             4324           PACS   \n",
       "3            24       0                    1             2641    Célibataire   \n",
       "4            46       1                    2             5072       Marié(e)   \n",
       "\n",
       "   Véhicule  matricule  \n",
       "0         0         32  \n",
       "1         1       1890  \n",
       "2         1       1847  \n",
       "3         0       2619  \n",
       "4         1       1963  "
      ]
     },
     "execution_count": 2,
     "metadata": {},
     "output_type": "execute_result"
    }
   ],
   "source": [
    "# Loading du dataset\n",
    "\n",
    "PATH = \"data/dataset_RH.pkl\"\n",
    "\n",
    "with open(PATH, 'rb') as read_file:\n",
    "    X, Y = pickle.load(read_file)\n",
    "X.head()"
   ]
  },
  {
   "cell_type": "markdown",
   "metadata": {},
   "source": [
    "Question : Which features are categorical ? "
   ]
  },
  {
   "cell_type": "code",
   "execution_count": 3,
   "metadata": {
    "colab": {
     "base_uri": "https://localhost:8080/",
     "height": 399
    },
    "id": "8q1U9tBh06Er",
    "outputId": "7aaac212-8a67-407d-c3d3-bad054240073"
   },
   "outputs": [
    {
     "name": "stdout",
     "output_type": "stream",
     "text": [
      "Nb of sampels :  23857\n",
      "Nb of non numerical features :  2\n",
      "********\n",
      "Matricule :\n",
      " 32      15\n",
      "2311    15\n",
      "2242    15\n",
      "1825    15\n",
      "77      15\n",
      "        ..\n",
      "2629     1\n",
      "522      1\n",
      "1643     1\n",
      "2201     1\n",
      "1563     1\n",
      "Name: matricule, Length: 2676, dtype: int64\n",
      "********\n"
     ]
    },
    {
     "data": {
      "text/html": [
       "<div>\n",
       "<style scoped>\n",
       "    .dataframe tbody tr th:only-of-type {\n",
       "        vertical-align: middle;\n",
       "    }\n",
       "\n",
       "    .dataframe tbody tr th {\n",
       "        vertical-align: top;\n",
       "    }\n",
       "\n",
       "    .dataframe thead th {\n",
       "        text-align: right;\n",
       "    }\n",
       "</style>\n",
       "<table border=\"1\" class=\"dataframe\">\n",
       "  <thead>\n",
       "    <tr style=\"text-align: right;\">\n",
       "      <th></th>\n",
       "      <th>Dernière promotion (mois)</th>\n",
       "      <th>Dernière augmentation (mois)</th>\n",
       "      <th>Début de contrat (années)</th>\n",
       "      <th>Ancienneté groupe (années)</th>\n",
       "      <th>Etablissement</th>\n",
       "      <th>Âge (années)</th>\n",
       "      <th>Parent</th>\n",
       "      <th>Niveau hiérarchique</th>\n",
       "      <th>Salaire (Euros)</th>\n",
       "      <th>Véhicule</th>\n",
       "      <th>matricule</th>\n",
       "    </tr>\n",
       "  </thead>\n",
       "  <tbody>\n",
       "    <tr>\n",
       "      <th>count</th>\n",
       "      <td>23857.000000</td>\n",
       "      <td>23857.000000</td>\n",
       "      <td>23857.000000</td>\n",
       "      <td>23857.000000</td>\n",
       "      <td>23857.000000</td>\n",
       "      <td>23857.000000</td>\n",
       "      <td>23857.000000</td>\n",
       "      <td>23857.000000</td>\n",
       "      <td>23857.000000</td>\n",
       "      <td>23857.000000</td>\n",
       "      <td>23857.000000</td>\n",
       "    </tr>\n",
       "    <tr>\n",
       "      <th>mean</th>\n",
       "      <td>29.460739</td>\n",
       "      <td>7.934986</td>\n",
       "      <td>7.530322</td>\n",
       "      <td>11.632095</td>\n",
       "      <td>20.193947</td>\n",
       "      <td>41.767154</td>\n",
       "      <td>0.720711</td>\n",
       "      <td>1.554554</td>\n",
       "      <td>4168.404032</td>\n",
       "      <td>0.506853</td>\n",
       "      <td>1361.255858</td>\n",
       "    </tr>\n",
       "    <tr>\n",
       "      <th>std</th>\n",
       "      <td>25.497874</td>\n",
       "      <td>7.549982</td>\n",
       "      <td>5.985476</td>\n",
       "      <td>9.218618</td>\n",
       "      <td>9.295469</td>\n",
       "      <td>11.014444</td>\n",
       "      <td>0.448659</td>\n",
       "      <td>0.657887</td>\n",
       "      <td>1657.829824</td>\n",
       "      <td>0.500299</td>\n",
       "      <td>794.183153</td>\n",
       "    </tr>\n",
       "    <tr>\n",
       "      <th>min</th>\n",
       "      <td>0.000000</td>\n",
       "      <td>0.000000</td>\n",
       "      <td>0.000000</td>\n",
       "      <td>0.000000</td>\n",
       "      <td>0.000000</td>\n",
       "      <td>20.000000</td>\n",
       "      <td>0.000000</td>\n",
       "      <td>1.000000</td>\n",
       "      <td>2134.000000</td>\n",
       "      <td>0.000000</td>\n",
       "      <td>0.000000</td>\n",
       "    </tr>\n",
       "    <tr>\n",
       "      <th>25%</th>\n",
       "      <td>10.590000</td>\n",
       "      <td>3.180000</td>\n",
       "      <td>2.300000</td>\n",
       "      <td>3.800000</td>\n",
       "      <td>11.000000</td>\n",
       "      <td>34.000000</td>\n",
       "      <td>0.000000</td>\n",
       "      <td>1.000000</td>\n",
       "      <td>3197.000000</td>\n",
       "      <td>0.000000</td>\n",
       "      <td>655.000000</td>\n",
       "    </tr>\n",
       "    <tr>\n",
       "      <th>50%</th>\n",
       "      <td>21.219999</td>\n",
       "      <td>5.880000</td>\n",
       "      <td>6.280000</td>\n",
       "      <td>9.870000</td>\n",
       "      <td>26.000000</td>\n",
       "      <td>41.000000</td>\n",
       "      <td>1.000000</td>\n",
       "      <td>1.000000</td>\n",
       "      <td>3629.000000</td>\n",
       "      <td>1.000000</td>\n",
       "      <td>1371.000000</td>\n",
       "    </tr>\n",
       "    <tr>\n",
       "      <th>75%</th>\n",
       "      <td>41.400002</td>\n",
       "      <td>10.340000</td>\n",
       "      <td>11.070000</td>\n",
       "      <td>16.320000</td>\n",
       "      <td>28.000000</td>\n",
       "      <td>49.000000</td>\n",
       "      <td>1.000000</td>\n",
       "      <td>2.000000</td>\n",
       "      <td>4511.000000</td>\n",
       "      <td>1.000000</td>\n",
       "      <td>2072.000000</td>\n",
       "    </tr>\n",
       "    <tr>\n",
       "      <th>max</th>\n",
       "      <td>152.970001</td>\n",
       "      <td>84.050003</td>\n",
       "      <td>33.119999</td>\n",
       "      <td>45.619999</td>\n",
       "      <td>36.000000</td>\n",
       "      <td>100.000000</td>\n",
       "      <td>1.000000</td>\n",
       "      <td>4.000000</td>\n",
       "      <td>18137.000000</td>\n",
       "      <td>2.000000</td>\n",
       "      <td>2675.000000</td>\n",
       "    </tr>\n",
       "  </tbody>\n",
       "</table>\n",
       "</div>"
      ],
      "text/plain": [
       "       Dernière promotion (mois)  Dernière augmentation (mois)  \\\n",
       "count               23857.000000                  23857.000000   \n",
       "mean                   29.460739                      7.934986   \n",
       "std                    25.497874                      7.549982   \n",
       "min                     0.000000                      0.000000   \n",
       "25%                    10.590000                      3.180000   \n",
       "50%                    21.219999                      5.880000   \n",
       "75%                    41.400002                     10.340000   \n",
       "max                   152.970001                     84.050003   \n",
       "\n",
       "       Début de contrat (années)  Ancienneté groupe (années)  Etablissement  \\\n",
       "count               23857.000000                23857.000000   23857.000000   \n",
       "mean                    7.530322                   11.632095      20.193947   \n",
       "std                     5.985476                    9.218618       9.295469   \n",
       "min                     0.000000                    0.000000       0.000000   \n",
       "25%                     2.300000                    3.800000      11.000000   \n",
       "50%                     6.280000                    9.870000      26.000000   \n",
       "75%                    11.070000                   16.320000      28.000000   \n",
       "max                    33.119999                   45.619999      36.000000   \n",
       "\n",
       "       Âge (années)        Parent  Niveau hiérarchique  Salaire (Euros)  \\\n",
       "count  23857.000000  23857.000000         23857.000000     23857.000000   \n",
       "mean      41.767154      0.720711             1.554554      4168.404032   \n",
       "std       11.014444      0.448659             0.657887      1657.829824   \n",
       "min       20.000000      0.000000             1.000000      2134.000000   \n",
       "25%       34.000000      0.000000             1.000000      3197.000000   \n",
       "50%       41.000000      1.000000             1.000000      3629.000000   \n",
       "75%       49.000000      1.000000             2.000000      4511.000000   \n",
       "max      100.000000      1.000000             4.000000     18137.000000   \n",
       "\n",
       "           Véhicule     matricule  \n",
       "count  23857.000000  23857.000000  \n",
       "mean       0.506853   1361.255858  \n",
       "std        0.500299    794.183153  \n",
       "min        0.000000      0.000000  \n",
       "25%        0.000000    655.000000  \n",
       "50%        1.000000   1371.000000  \n",
       "75%        1.000000   2072.000000  \n",
       "max        2.000000   2675.000000  "
      ]
     },
     "execution_count": 3,
     "metadata": {},
     "output_type": "execute_result"
    }
   ],
   "source": [
    "# How many samples do we have in our dataset ?\n",
    "print(\"Nb of sampels : \", X.shape[0])\n",
    "# Features distributions : Do you find any outliers ?\n",
    "print(\"Nb of non numerical features : \", X.select_dtypes(include=['object']).shape[1])\n",
    "\n",
    "print(\"********\")\n",
    "print(\"Matricule :\\n\",X.matricule.value_counts())\n",
    "print(\"********\")\n",
    "\n",
    "X.describe()"
   ]
  },
  {
   "cell_type": "markdown",
   "metadata": {},
   "source": [
    "The categorical variables are : Famille d'emploi, Statut marital. But it is also important to notice that Etablissement, Parent, Vehicule are also categorical, it is juste an encoding. It is also possible to argui that matricule is categorical since we can't apply any order on it, each person has."
   ]
  },
  {
   "cell_type": "markdown",
   "metadata": {
    "id": "LWLV97NXq3qm"
   },
   "source": [
    "Question: How many different employees are gathered in this dataset?"
   ]
  },
  {
   "cell_type": "code",
   "execution_count": 4,
   "metadata": {},
   "outputs": [
    {
     "name": "stdout",
     "output_type": "stream",
     "text": [
      "Number of employes :  2676\n"
     ]
    }
   ],
   "source": [
    "print(\"Number of employes : \", X.matricule.nunique())"
   ]
  },
  {
   "cell_type": "code",
   "execution_count": 5,
   "metadata": {},
   "outputs": [
    {
     "name": "stdout",
     "output_type": "stream",
     "text": [
      "Lets see the content concerning 1 employe :\n"
     ]
    },
    {
     "data": {
      "text/html": [
       "<div>\n",
       "<style scoped>\n",
       "    .dataframe tbody tr th:only-of-type {\n",
       "        vertical-align: middle;\n",
       "    }\n",
       "\n",
       "    .dataframe tbody tr th {\n",
       "        vertical-align: top;\n",
       "    }\n",
       "\n",
       "    .dataframe thead th {\n",
       "        text-align: right;\n",
       "    }\n",
       "</style>\n",
       "<table border=\"1\" class=\"dataframe\">\n",
       "  <thead>\n",
       "    <tr style=\"text-align: right;\">\n",
       "      <th></th>\n",
       "      <th>Famille d'emploi</th>\n",
       "      <th>Dernière promotion (mois)</th>\n",
       "      <th>Dernière augmentation (mois)</th>\n",
       "      <th>Début de contrat (années)</th>\n",
       "      <th>Ancienneté groupe (années)</th>\n",
       "      <th>Etablissement</th>\n",
       "      <th>Âge (années)</th>\n",
       "      <th>Parent</th>\n",
       "      <th>Niveau hiérarchique</th>\n",
       "      <th>Salaire (Euros)</th>\n",
       "      <th>Statut marital</th>\n",
       "      <th>Véhicule</th>\n",
       "      <th>matricule</th>\n",
       "    </tr>\n",
       "  </thead>\n",
       "  <tbody>\n",
       "    <tr>\n",
       "      <th>244</th>\n",
       "      <td>Support</td>\n",
       "      <td>37.070000</td>\n",
       "      <td>23.020000</td>\n",
       "      <td>7.99</td>\n",
       "      <td>24.540001</td>\n",
       "      <td>19</td>\n",
       "      <td>55</td>\n",
       "      <td>1</td>\n",
       "      <td>2</td>\n",
       "      <td>4825</td>\n",
       "      <td>Marié(e)</td>\n",
       "      <td>1</td>\n",
       "      <td>2311</td>\n",
       "    </tr>\n",
       "    <tr>\n",
       "      <th>1176</th>\n",
       "      <td>Support</td>\n",
       "      <td>40.299999</td>\n",
       "      <td>25.900000</td>\n",
       "      <td>8.36</td>\n",
       "      <td>24.709999</td>\n",
       "      <td>20</td>\n",
       "      <td>56</td>\n",
       "      <td>1</td>\n",
       "      <td>2</td>\n",
       "      <td>4825</td>\n",
       "      <td>Marié(e)</td>\n",
       "      <td>1</td>\n",
       "      <td>2311</td>\n",
       "    </tr>\n",
       "    <tr>\n",
       "      <th>2594</th>\n",
       "      <td>Support</td>\n",
       "      <td>43.470001</td>\n",
       "      <td>28.280001</td>\n",
       "      <td>8.73</td>\n",
       "      <td>24.770000</td>\n",
       "      <td>20</td>\n",
       "      <td>56</td>\n",
       "      <td>1</td>\n",
       "      <td>2</td>\n",
       "      <td>4822</td>\n",
       "      <td>Marié(e)</td>\n",
       "      <td>1</td>\n",
       "      <td>2311</td>\n",
       "    </tr>\n",
       "    <tr>\n",
       "      <th>4134</th>\n",
       "      <td>Support</td>\n",
       "      <td>46.650002</td>\n",
       "      <td>30.680000</td>\n",
       "      <td>9.11</td>\n",
       "      <td>24.850000</td>\n",
       "      <td>20</td>\n",
       "      <td>57</td>\n",
       "      <td>1</td>\n",
       "      <td>2</td>\n",
       "      <td>4819</td>\n",
       "      <td>Marié(e)</td>\n",
       "      <td>1</td>\n",
       "      <td>2311</td>\n",
       "    </tr>\n",
       "    <tr>\n",
       "      <th>6033</th>\n",
       "      <td>Support</td>\n",
       "      <td>49.840000</td>\n",
       "      <td>33.090000</td>\n",
       "      <td>9.49</td>\n",
       "      <td>24.920000</td>\n",
       "      <td>19</td>\n",
       "      <td>57</td>\n",
       "      <td>1</td>\n",
       "      <td>2</td>\n",
       "      <td>4815</td>\n",
       "      <td>Marié(e)</td>\n",
       "      <td>1</td>\n",
       "      <td>2311</td>\n",
       "    </tr>\n",
       "  </tbody>\n",
       "</table>\n",
       "</div>"
      ],
      "text/plain": [
       "     Famille d'emploi  Dernière promotion (mois)  \\\n",
       "244           Support                  37.070000   \n",
       "1176          Support                  40.299999   \n",
       "2594          Support                  43.470001   \n",
       "4134          Support                  46.650002   \n",
       "6033          Support                  49.840000   \n",
       "\n",
       "      Dernière augmentation (mois)  Début de contrat (années)  \\\n",
       "244                      23.020000                       7.99   \n",
       "1176                     25.900000                       8.36   \n",
       "2594                     28.280001                       8.73   \n",
       "4134                     30.680000                       9.11   \n",
       "6033                     33.090000                       9.49   \n",
       "\n",
       "      Ancienneté groupe (années)  Etablissement  Âge (années)  Parent  \\\n",
       "244                    24.540001             19            55       1   \n",
       "1176                   24.709999             20            56       1   \n",
       "2594                   24.770000             20            56       1   \n",
       "4134                   24.850000             20            57       1   \n",
       "6033                   24.920000             19            57       1   \n",
       "\n",
       "      Niveau hiérarchique  Salaire (Euros) Statut marital  Véhicule  matricule  \n",
       "244                     2             4825       Marié(e)         1       2311  \n",
       "1176                    2             4825       Marié(e)         1       2311  \n",
       "2594                    2             4822       Marié(e)         1       2311  \n",
       "4134                    2             4819       Marié(e)         1       2311  \n",
       "6033                    2             4815       Marié(e)         1       2311  "
      ]
     },
     "execution_count": 5,
     "metadata": {},
     "output_type": "execute_result"
    }
   ],
   "source": [
    "print(\"Lets see the content concerning 1 employe :\")\n",
    "X[X.matricule == 2311].head()"
   ]
  },
  {
   "cell_type": "markdown",
   "metadata": {
    "id": "5NBrTlWVq75c"
   },
   "source": [
    "Question: How many employees did resignate within the next six months in the dataset ? What is then the proportion of this label ?"
   ]
  },
  {
   "cell_type": "code",
   "execution_count": 6,
   "metadata": {},
   "outputs": [
    {
     "data": {
      "text/html": [
       "<div>\n",
       "<style scoped>\n",
       "    .dataframe tbody tr th:only-of-type {\n",
       "        vertical-align: middle;\n",
       "    }\n",
       "\n",
       "    .dataframe tbody tr th {\n",
       "        vertical-align: top;\n",
       "    }\n",
       "\n",
       "    .dataframe thead th {\n",
       "        text-align: right;\n",
       "    }\n",
       "</style>\n",
       "<table border=\"1\" class=\"dataframe\">\n",
       "  <thead>\n",
       "    <tr style=\"text-align: right;\">\n",
       "      <th></th>\n",
       "      <th>Famille d'emploi</th>\n",
       "      <th>Dernière promotion (mois)</th>\n",
       "      <th>Dernière augmentation (mois)</th>\n",
       "      <th>Début de contrat (années)</th>\n",
       "      <th>Ancienneté groupe (années)</th>\n",
       "      <th>Etablissement</th>\n",
       "      <th>Âge (années)</th>\n",
       "      <th>Parent</th>\n",
       "      <th>Niveau hiérarchique</th>\n",
       "      <th>Salaire (Euros)</th>\n",
       "      <th>Statut marital</th>\n",
       "      <th>Véhicule</th>\n",
       "      <th>matricule</th>\n",
       "    </tr>\n",
       "  </thead>\n",
       "  <tbody>\n",
       "    <tr>\n",
       "      <th>12997</th>\n",
       "      <td>Production</td>\n",
       "      <td>3.54</td>\n",
       "      <td>2.83</td>\n",
       "      <td>0.47</td>\n",
       "      <td>0.96</td>\n",
       "      <td>2</td>\n",
       "      <td>25</td>\n",
       "      <td>0</td>\n",
       "      <td>1</td>\n",
       "      <td>3251</td>\n",
       "      <td>Célibataire</td>\n",
       "      <td>0</td>\n",
       "      <td>1276</td>\n",
       "    </tr>\n",
       "    <tr>\n",
       "      <th>14785</th>\n",
       "      <td>Production</td>\n",
       "      <td>6.30</td>\n",
       "      <td>5.63</td>\n",
       "      <td>0.78</td>\n",
       "      <td>1.05</td>\n",
       "      <td>2</td>\n",
       "      <td>26</td>\n",
       "      <td>0</td>\n",
       "      <td>1</td>\n",
       "      <td>3250</td>\n",
       "      <td>Célibataire</td>\n",
       "      <td>0</td>\n",
       "      <td>1276</td>\n",
       "    </tr>\n",
       "    <tr>\n",
       "      <th>16586</th>\n",
       "      <td>Production</td>\n",
       "      <td>9.46</td>\n",
       "      <td>0.87</td>\n",
       "      <td>1.11</td>\n",
       "      <td>1.53</td>\n",
       "      <td>2</td>\n",
       "      <td>27</td>\n",
       "      <td>0</td>\n",
       "      <td>1</td>\n",
       "      <td>3354</td>\n",
       "      <td>Célibataire</td>\n",
       "      <td>0</td>\n",
       "      <td>1276</td>\n",
       "    </tr>\n",
       "    <tr>\n",
       "      <th>18398</th>\n",
       "      <td>Production</td>\n",
       "      <td>12.24</td>\n",
       "      <td>3.74</td>\n",
       "      <td>1.37</td>\n",
       "      <td>1.59</td>\n",
       "      <td>2</td>\n",
       "      <td>27</td>\n",
       "      <td>0</td>\n",
       "      <td>1</td>\n",
       "      <td>3352</td>\n",
       "      <td>Célibataire</td>\n",
       "      <td>0</td>\n",
       "      <td>1276</td>\n",
       "    </tr>\n",
       "    <tr>\n",
       "      <th>20189</th>\n",
       "      <td>Production</td>\n",
       "      <td>1.78</td>\n",
       "      <td>6.57</td>\n",
       "      <td>1.55</td>\n",
       "      <td>1.80</td>\n",
       "      <td>2</td>\n",
       "      <td>27</td>\n",
       "      <td>0</td>\n",
       "      <td>1</td>\n",
       "      <td>3354</td>\n",
       "      <td>Célibataire</td>\n",
       "      <td>0</td>\n",
       "      <td>1276</td>\n",
       "    </tr>\n",
       "    <tr>\n",
       "      <th>21992</th>\n",
       "      <td>Production</td>\n",
       "      <td>4.97</td>\n",
       "      <td>1.63</td>\n",
       "      <td>1.95</td>\n",
       "      <td>2.32</td>\n",
       "      <td>2</td>\n",
       "      <td>28</td>\n",
       "      <td>0</td>\n",
       "      <td>1</td>\n",
       "      <td>3459</td>\n",
       "      <td>Célibataire</td>\n",
       "      <td>0</td>\n",
       "      <td>1276</td>\n",
       "    </tr>\n",
       "    <tr>\n",
       "      <th>23761</th>\n",
       "      <td>Production</td>\n",
       "      <td>7.71</td>\n",
       "      <td>4.49</td>\n",
       "      <td>2.20</td>\n",
       "      <td>2.38</td>\n",
       "      <td>2</td>\n",
       "      <td>28</td>\n",
       "      <td>0</td>\n",
       "      <td>1</td>\n",
       "      <td>3457</td>\n",
       "      <td>Célibataire</td>\n",
       "      <td>0</td>\n",
       "      <td>1276</td>\n",
       "    </tr>\n",
       "  </tbody>\n",
       "</table>\n",
       "</div>"
      ],
      "text/plain": [
       "      Famille d'emploi  Dernière promotion (mois)  \\\n",
       "12997       Production                       3.54   \n",
       "14785       Production                       6.30   \n",
       "16586       Production                       9.46   \n",
       "18398       Production                      12.24   \n",
       "20189       Production                       1.78   \n",
       "21992       Production                       4.97   \n",
       "23761       Production                       7.71   \n",
       "\n",
       "       Dernière augmentation (mois)  Début de contrat (années)  \\\n",
       "12997                          2.83                       0.47   \n",
       "14785                          5.63                       0.78   \n",
       "16586                          0.87                       1.11   \n",
       "18398                          3.74                       1.37   \n",
       "20189                          6.57                       1.55   \n",
       "21992                          1.63                       1.95   \n",
       "23761                          4.49                       2.20   \n",
       "\n",
       "       Ancienneté groupe (années)  Etablissement  Âge (années)  Parent  \\\n",
       "12997                        0.96              2            25       0   \n",
       "14785                        1.05              2            26       0   \n",
       "16586                        1.53              2            27       0   \n",
       "18398                        1.59              2            27       0   \n",
       "20189                        1.80              2            27       0   \n",
       "21992                        2.32              2            28       0   \n",
       "23761                        2.38              2            28       0   \n",
       "\n",
       "       Niveau hiérarchique  Salaire (Euros) Statut marital  Véhicule  \\\n",
       "12997                    1             3251    Célibataire         0   \n",
       "14785                    1             3250    Célibataire         0   \n",
       "16586                    1             3354    Célibataire         0   \n",
       "18398                    1             3352    Célibataire         0   \n",
       "20189                    1             3354    Célibataire         0   \n",
       "21992                    1             3459    Célibataire         0   \n",
       "23761                    1             3457    Célibataire         0   \n",
       "\n",
       "       matricule  \n",
       "12997       1276  \n",
       "14785       1276  \n",
       "16586       1276  \n",
       "18398       1276  \n",
       "20189       1276  \n",
       "21992       1276  \n",
       "23761       1276  "
      ]
     },
     "execution_count": 6,
     "metadata": {},
     "output_type": "execute_result"
    }
   ],
   "source": [
    "X[X.matricule == 1276]"
   ]
  },
  {
   "cell_type": "code",
   "execution_count": 7,
   "metadata": {},
   "outputs": [
    {
     "name": "stdout",
     "output_type": "stream",
     "text": [
      "Total number of resignations :  755\n",
      "Total number of unique employees resignated : 408\n",
      "Maximum entries per resignated employees :  3\n",
      "Example of repeated resignation in the Y vector : \n"
     ]
    },
    {
     "data": {
      "text/html": [
       "<div>\n",
       "<style scoped>\n",
       "    .dataframe tbody tr th:only-of-type {\n",
       "        vertical-align: middle;\n",
       "    }\n",
       "\n",
       "    .dataframe tbody tr th {\n",
       "        vertical-align: top;\n",
       "    }\n",
       "\n",
       "    .dataframe thead th {\n",
       "        text-align: right;\n",
       "    }\n",
       "</style>\n",
       "<table border=\"1\" class=\"dataframe\">\n",
       "  <thead>\n",
       "    <tr style=\"text-align: right;\">\n",
       "      <th></th>\n",
       "      <th>Famille d'emploi</th>\n",
       "      <th>Dernière promotion (mois)</th>\n",
       "      <th>Dernière augmentation (mois)</th>\n",
       "      <th>Début de contrat (années)</th>\n",
       "      <th>Ancienneté groupe (années)</th>\n",
       "      <th>Etablissement</th>\n",
       "      <th>Âge (années)</th>\n",
       "      <th>Parent</th>\n",
       "      <th>Niveau hiérarchique</th>\n",
       "      <th>Salaire (Euros)</th>\n",
       "      <th>Statut marital</th>\n",
       "      <th>Véhicule</th>\n",
       "      <th>matricule</th>\n",
       "    </tr>\n",
       "  </thead>\n",
       "  <tbody>\n",
       "    <tr>\n",
       "      <th>20189</th>\n",
       "      <td>Production</td>\n",
       "      <td>1.78</td>\n",
       "      <td>6.57</td>\n",
       "      <td>1.55</td>\n",
       "      <td>1.80</td>\n",
       "      <td>2</td>\n",
       "      <td>27</td>\n",
       "      <td>0</td>\n",
       "      <td>1</td>\n",
       "      <td>3354</td>\n",
       "      <td>Célibataire</td>\n",
       "      <td>0</td>\n",
       "      <td>1276</td>\n",
       "    </tr>\n",
       "    <tr>\n",
       "      <th>21992</th>\n",
       "      <td>Production</td>\n",
       "      <td>4.97</td>\n",
       "      <td>1.63</td>\n",
       "      <td>1.95</td>\n",
       "      <td>2.32</td>\n",
       "      <td>2</td>\n",
       "      <td>28</td>\n",
       "      <td>0</td>\n",
       "      <td>1</td>\n",
       "      <td>3459</td>\n",
       "      <td>Célibataire</td>\n",
       "      <td>0</td>\n",
       "      <td>1276</td>\n",
       "    </tr>\n",
       "    <tr>\n",
       "      <th>23761</th>\n",
       "      <td>Production</td>\n",
       "      <td>7.71</td>\n",
       "      <td>4.49</td>\n",
       "      <td>2.20</td>\n",
       "      <td>2.38</td>\n",
       "      <td>2</td>\n",
       "      <td>28</td>\n",
       "      <td>0</td>\n",
       "      <td>1</td>\n",
       "      <td>3457</td>\n",
       "      <td>Célibataire</td>\n",
       "      <td>0</td>\n",
       "      <td>1276</td>\n",
       "    </tr>\n",
       "  </tbody>\n",
       "</table>\n",
       "</div>"
      ],
      "text/plain": [
       "      Famille d'emploi  Dernière promotion (mois)  \\\n",
       "20189       Production                       1.78   \n",
       "21992       Production                       4.97   \n",
       "23761       Production                       7.71   \n",
       "\n",
       "       Dernière augmentation (mois)  Début de contrat (années)  \\\n",
       "20189                          6.57                       1.55   \n",
       "21992                          1.63                       1.95   \n",
       "23761                          4.49                       2.20   \n",
       "\n",
       "       Ancienneté groupe (années)  Etablissement  Âge (années)  Parent  \\\n",
       "20189                        1.80              2            27       0   \n",
       "21992                        2.32              2            28       0   \n",
       "23761                        2.38              2            28       0   \n",
       "\n",
       "       Niveau hiérarchique  Salaire (Euros) Statut marital  Véhicule  \\\n",
       "20189                    1             3354    Célibataire         0   \n",
       "21992                    1             3459    Célibataire         0   \n",
       "23761                    1             3457    Célibataire         0   \n",
       "\n",
       "       matricule  \n",
       "20189       1276  \n",
       "21992       1276  \n",
       "23761       1276  "
      ]
     },
     "execution_count": 7,
     "metadata": {},
     "output_type": "execute_result"
    }
   ],
   "source": [
    "print(\"Total number of resignations : \", Y.sum())\n",
    "print(\"Total number of unique employees resignated :\", X[Y.astype(bool)].matricule.nunique())\n",
    "print(\"Maximum entries per resignated employees : \", X[Y.astype(bool)].matricule.value_counts().max())\n",
    "print(\"Example of repeated resignation in the Y vector : \")\n",
    "id_resignated = X[Y.astype(bool)].matricule.value_counts().index[0]\n",
    "X[Y.astype(bool)][X[Y.astype(bool)].matricule == id_resignated]"
   ]
  },
  {
   "cell_type": "markdown",
   "metadata": {
    "id": "XjhQMt_RrDyi"
   },
   "source": [
    "Question: Consider a random employee who decided to resignate. Take a look at his evolution in the company from his hiring until his resignation"
   ]
  },
  {
   "cell_type": "code",
   "execution_count": 8,
   "metadata": {
    "id": "0Y4asiCfEZ-q"
   },
   "outputs": [
    {
     "data": {
      "text/html": [
       "<div>\n",
       "<style scoped>\n",
       "    .dataframe tbody tr th:only-of-type {\n",
       "        vertical-align: middle;\n",
       "    }\n",
       "\n",
       "    .dataframe tbody tr th {\n",
       "        vertical-align: top;\n",
       "    }\n",
       "\n",
       "    .dataframe thead th {\n",
       "        text-align: right;\n",
       "    }\n",
       "</style>\n",
       "<table border=\"1\" class=\"dataframe\">\n",
       "  <thead>\n",
       "    <tr style=\"text-align: right;\">\n",
       "      <th></th>\n",
       "      <th>Famille d'emploi</th>\n",
       "      <th>Dernière promotion (mois)</th>\n",
       "      <th>Dernière augmentation (mois)</th>\n",
       "      <th>Début de contrat (années)</th>\n",
       "      <th>Ancienneté groupe (années)</th>\n",
       "      <th>Etablissement</th>\n",
       "      <th>Âge (années)</th>\n",
       "      <th>Parent</th>\n",
       "      <th>Niveau hiérarchique</th>\n",
       "      <th>Salaire (Euros)</th>\n",
       "      <th>Statut marital</th>\n",
       "      <th>Véhicule</th>\n",
       "      <th>matricule</th>\n",
       "    </tr>\n",
       "  </thead>\n",
       "  <tbody>\n",
       "    <tr>\n",
       "      <th>20189</th>\n",
       "      <td>Production</td>\n",
       "      <td>1.78</td>\n",
       "      <td>6.57</td>\n",
       "      <td>1.55</td>\n",
       "      <td>1.80</td>\n",
       "      <td>2</td>\n",
       "      <td>27</td>\n",
       "      <td>0</td>\n",
       "      <td>1</td>\n",
       "      <td>3354</td>\n",
       "      <td>Célibataire</td>\n",
       "      <td>0</td>\n",
       "      <td>1276</td>\n",
       "    </tr>\n",
       "    <tr>\n",
       "      <th>21992</th>\n",
       "      <td>Production</td>\n",
       "      <td>4.97</td>\n",
       "      <td>1.63</td>\n",
       "      <td>1.95</td>\n",
       "      <td>2.32</td>\n",
       "      <td>2</td>\n",
       "      <td>28</td>\n",
       "      <td>0</td>\n",
       "      <td>1</td>\n",
       "      <td>3459</td>\n",
       "      <td>Célibataire</td>\n",
       "      <td>0</td>\n",
       "      <td>1276</td>\n",
       "    </tr>\n",
       "    <tr>\n",
       "      <th>23761</th>\n",
       "      <td>Production</td>\n",
       "      <td>7.71</td>\n",
       "      <td>4.49</td>\n",
       "      <td>2.20</td>\n",
       "      <td>2.38</td>\n",
       "      <td>2</td>\n",
       "      <td>28</td>\n",
       "      <td>0</td>\n",
       "      <td>1</td>\n",
       "      <td>3457</td>\n",
       "      <td>Célibataire</td>\n",
       "      <td>0</td>\n",
       "      <td>1276</td>\n",
       "    </tr>\n",
       "  </tbody>\n",
       "</table>\n",
       "</div>"
      ],
      "text/plain": [
       "      Famille d'emploi  Dernière promotion (mois)  \\\n",
       "20189       Production                       1.78   \n",
       "21992       Production                       4.97   \n",
       "23761       Production                       7.71   \n",
       "\n",
       "       Dernière augmentation (mois)  Début de contrat (années)  \\\n",
       "20189                          6.57                       1.55   \n",
       "21992                          1.63                       1.95   \n",
       "23761                          4.49                       2.20   \n",
       "\n",
       "       Ancienneté groupe (années)  Etablissement  Âge (années)  Parent  \\\n",
       "20189                        1.80              2            27       0   \n",
       "21992                        2.32              2            28       0   \n",
       "23761                        2.38              2            28       0   \n",
       "\n",
       "       Niveau hiérarchique  Salaire (Euros) Statut marital  Véhicule  \\\n",
       "20189                    1             3354    Célibataire         0   \n",
       "21992                    1             3459    Célibataire         0   \n",
       "23761                    1             3457    Célibataire         0   \n",
       "\n",
       "       matricule  \n",
       "20189       1276  \n",
       "21992       1276  \n",
       "23761       1276  "
      ]
     },
     "execution_count": 8,
     "metadata": {},
     "output_type": "execute_result"
    }
   ],
   "source": [
    "# HINTS\n",
    "# idx_resignate = np.where(...)\n",
    "# rand_idx = ... # Select a random resignation\n",
    "# resignated_employee = ... # Get the matricule of the randomly picked employee\n",
    "\n",
    "# evolution_employee = ... # Extract the subdataframe with the feature evolutions of the resignated employees\n",
    "id_resignated = X[Y.astype(bool)].matricule.value_counts().index[0]\n",
    "X[Y.astype(bool)][X[Y.astype(bool)].matricule == id_resignated]"
   ]
  },
  {
   "cell_type": "markdown",
   "metadata": {
    "id": "dcm2tcWiEZ-q"
   },
   "source": [
    "### Using seaborn to explore data \n",
    "\n",
    "As studied previously, the features are evolving for each employees in the time period 2016-2020. This evolution could be modeled as a time series experiment. In the first place, we will focus on classic ML models.\n",
    "\n",
    "Correlation matrixes and features distributions according to the resignation decision are displayed using the *seaborn* library."
   ]
  },
  {
   "cell_type": "code",
   "execution_count": 9,
   "metadata": {
    "colab": {
     "base_uri": "https://localhost:8080/",
     "height": 761
    },
    "id": "aar1dXhfSYku",
    "outputId": "37acecae-31f0-4ef2-8dfc-b6df472ff326"
   },
   "outputs": [
    {
     "data": {
      "image/png": "[encoded data removed]",
      "text/plain": [
       "<Figure size 864x864 with 2 Axes>"
      ]
     },
     "metadata": {},
     "output_type": "display_data"
    }
   ],
   "source": [
    "# Correlation matrix\n",
    "\n",
    "df = X.copy()\n",
    "\n",
    "# Add the label to the dataframe df to compute the correlation\n",
    "df[\"demission\"] = Y\n",
    "\n",
    "corr = df.corr()\n",
    "plt.figure(figsize=(12,12))\n",
    "sns.heatmap(corr, cmap=\"Blues\", annot=True, square=True, linewidths=.5, cbar_kws={\"shrink\": .5})\n",
    "plt.show()"
   ]
  },
  {
   "cell_type": "markdown",
   "metadata": {
    "id": "5geW3EcBqfL8"
   },
   "source": [
    "Question: What do you notice regarding the target feature 'demission', which is what we will be trying to predict?"
   ]
  },
  {
   "cell_type": "markdown",
   "metadata": {},
   "source": [
    "We can see that there is no strong correlation between `demission` and any other feature. But that doesn't mean that they are mutually independent, probably we can get good correlations when we combine features. "
   ]
  },
  {
   "cell_type": "markdown",
   "metadata": {
    "id": "7nI672Jtrgpr"
   },
   "source": [
    "Question: What interesting correlations do you notice (for instance with the feature 'Âge (années)' or 'Salaire') ?"
   ]
  },
  {
   "cell_type": "markdown",
   "metadata": {},
   "source": [
    "Age and salary are positively correlated. That means, the more age increases, the more salary is expected to increase."
   ]
  },
  {
   "cell_type": "code",
   "execution_count": 10,
   "metadata": {
    "colab": {
     "base_uri": "https://localhost:8080/"
    },
    "id": "DY368P8Fi3jG",
    "outputId": "a52d41e1-042d-42b0-97c3-a411928ed2b6"
   },
   "outputs": [
    {
     "data": {
      "text/plain": [
       "Index(['Famille d'emploi', 'Dernière promotion (mois)',\n",
       "       'Dernière augmentation (mois)', 'Début de contrat (années)',\n",
       "       'Ancienneté groupe (années)', 'Etablissement', 'Âge (années)', 'Parent',\n",
       "       'Niveau hiérarchique', 'Salaire (Euros)', 'Statut marital', 'Véhicule',\n",
       "       'matricule', 'demission'],\n",
       "      dtype='object')"
      ]
     },
     "execution_count": 10,
     "metadata": {},
     "output_type": "execute_result"
    }
   ],
   "source": [
    "df.columns"
   ]
  },
  {
   "cell_type": "code",
   "execution_count": 11,
   "metadata": {},
   "outputs": [
    {
     "data": {
      "image/png": "[encoded data removed]",
      "text/plain": [
       "<Figure size 1728x504 with 1 Axes>"
      ]
     },
     "metadata": {},
     "output_type": "display_data"
    }
   ],
   "source": [
    "age_sal = df[[\"Âge (années)\", \"Salaire (Euros)\"]].to_numpy()\n",
    "age, sal = age_sal[:,0], age_sal[:,1]\n",
    "\n",
    "plt.figure(figsize=(24,7))\n",
    "plt.scatter(age, sal, s=10, alpha=0.5)\n",
    "plt.title(\"Age, Salaire correlation\")\n",
    "plt.xlabel(\"Âge (années)\")\n",
    "plt.ylabel(\"Salaire (Euros)\")\n",
    "plt.show()"
   ]
  },
  {
   "cell_type": "markdown",
   "metadata": {
    "id": "Nq1KMkZVjltn"
   },
   "source": [
    "It can sometimes be useful to visualise the distribution of a particular set of features. First, we can try and visualise the age distribution for employees who resigned or didn't resign in the next 6 months. These distributions seem to indicate that the subgroup of employees who resigned are generally younger than the subgroup of employees who did not resign."
   ]
  },
  {
   "cell_type": "code",
   "execution_count": 12,
   "metadata": {
    "colab": {
     "base_uri": "https://localhost:8080/",
     "height": 413
    },
    "id": "3sLD8MnpWZCG",
    "outputId": "dbe84fc2-c454-4903-edcd-33cbe7b23da6"
   },
   "outputs": [
    {
     "data": {
      "image/png": "[encoded data removed]",
      "text/plain": [
       "<Figure size 720x432 with 1 Axes>"
      ]
     },
     "metadata": {},
     "output_type": "display_data"
    }
   ],
   "source": [
    "x,y = 'Âge (années)', 'demission'\n",
    "\n",
    "plt.figure(figsize=(10,6))\n",
    "sns.set_theme()\n",
    "sns.kdeplot(data=df.groupby(x)[y].value_counts(normalize=True).mul(100), x=x, hue=y, fill=True)\n",
    "plt.show()"
   ]
  },
  {
   "cell_type": "markdown",
   "metadata": {},
   "source": [
    "It is very important to notice that the age range of resigned employees is much smaller than the age range of employees who did not resign and its mean is lower."
   ]
  },
  {
   "cell_type": "markdown",
   "metadata": {
    "id": "viA5hhhcr3Rn"
   },
   "source": [
    "Question: How do you interpret this visualisation?"
   ]
  },
  {
   "cell_type": "code",
   "execution_count": 13,
   "metadata": {
    "colab": {
     "base_uri": "https://localhost:8080/",
     "height": 411
    },
    "id": "iOnGugAkPi1f",
    "outputId": "06e35e69-bf3b-4f03-e5bb-2fb0b5876d11"
   },
   "outputs": [
    {
     "data": {
      "image/png": "[encoded data removed]",
      "text/plain": [
       "<Figure size 720x432 with 1 Axes>"
      ]
     },
     "metadata": {},
     "output_type": "display_data"
    }
   ],
   "source": [
    "x,y = 'Salaire (Euros)', 'demission'\n",
    "\n",
    "plt.figure(figsize=(10,6))\n",
    "sns.set_theme()\n",
    "sns.kdeplot(data=df.groupby(x)[y].value_counts(normalize=True).mul(100), x=x, hue=y, fill=True)\n",
    "plt.show()"
   ]
  },
  {
   "cell_type": "code",
   "execution_count": 14,
   "metadata": {},
   "outputs": [
    {
     "data": {
      "text/plain": [
       "Salaire (Euros)  demission\n",
       "2134             0            100.0\n",
       "2137             0            100.0\n",
       "2330             0            100.0\n",
       "2332             0            100.0\n",
       "2333             0            100.0\n",
       "                              ...  \n",
       "16889            0            100.0\n",
       "16890            0            100.0\n",
       "16891            0            100.0\n",
       "17185            0            100.0\n",
       "18137            0            100.0\n",
       "Name: demission, Length: 5466, dtype: float64"
      ]
     },
     "execution_count": 14,
     "metadata": {},
     "output_type": "execute_result"
    }
   ],
   "source": [
    "df.groupby(x)[y].value_counts(normalize=True).mul(100)"
   ]
  },
  {
   "cell_type": "markdown",
   "metadata": {},
   "source": [
    "Employees with a high salary are less likely to resign. The salary of resignated employees is meanly between 2500 and 5000 euros. It is also important to notice that employees with lowest salaries are not resigning, maybe they are juste waiting for a promotion ?"
   ]
  },
  {
   "cell_type": "markdown",
   "metadata": {
    "id": "QHq8duRFsEJS"
   },
   "source": [
    "Question: How do you interpret this visualisation?"
   ]
  },
  {
   "cell_type": "markdown",
   "metadata": {
    "id": "xZm-fASfj_z_"
   },
   "source": [
    "Similarly in this 2D plot, we can visualise the combination of salary and age with respect to the target variable 'demission'. The subgroup of employees who resigned have a generally smaller salary in addition to being younger."
   ]
  },
  {
   "cell_type": "code",
   "execution_count": 15,
   "metadata": {
    "colab": {
     "base_uri": "https://localhost:8080/",
     "height": 411
    },
    "id": "u2AoxjLzhifH",
    "outputId": "09faacaf-80a2-4bbc-951c-31f8973d054c"
   },
   "outputs": [
    {
     "data": {
      "image/png": "[encoded data removed]",
      "text/plain": [
       "<Figure size 720x432 with 1 Axes>"
      ]
     },
     "metadata": {},
     "output_type": "display_data"
    }
   ],
   "source": [
    "plt.figure(figsize=(10,6))\n",
    "sns.set_theme()\n",
    "sns.kdeplot(data=df, x=\"Salaire (Euros)\", y=\"Âge (années)\", hue=\"demission\", fill=True)\n",
    "plt.show()"
   ]
  },
  {
   "cell_type": "markdown",
   "metadata": {},
   "source": [
    "As we can notice, employees that have a salary corresponding to their age (ie. the mean of the salary a this age) are more likely to resign below the age of 45. It is interesting to notice that employees with age 25 - 40 do not resigne when they have very low salaries, maybe they are waiting for a promotion or they have low qualifications that correspond to a low salary. This phenomenon is more observed for age 40 - 45."
   ]
  },
  {
   "cell_type": "markdown",
   "metadata": {
    "id": "rYVg94YOsJuJ"
   },
   "source": [
    "Question: How do you interpret this visualisation?"
   ]
  },
  {
   "cell_type": "markdown",
   "metadata": {},
   "source": [
    "Question : Do the parents tend to resignate more in the input dataset ?"
   ]
  },
  {
   "cell_type": "code",
   "execution_count": 16,
   "metadata": {},
   "outputs": [
    {
     "data": {
      "image/png": "[encoded data removed]",
      "text/plain": [
       "<Figure size 720x432 with 1 Axes>"
      ]
     },
     "metadata": {},
     "output_type": "display_data"
    }
   ],
   "source": [
    "x,y = 'Parent', 'demission'\n",
    "\n",
    "\n",
    "plt.figure(figsize=(10,6))\n",
    "sns.set_theme()\n",
    "sns.histplot(data=df[df[y] == 0], x=x, fill=True, stat=\"percent\", binwidth= 0.2,color=\"b\", label=\"no resignation\")\n",
    "sns.histplot(data=df[df[y] == 1], x=x, fill=True, stat=\"percent\", binwidth= 0.2,color=\"g\", label=\"resignation\")\n",
    "plt.legend()\n",
    "plt.show()"
   ]
  },
  {
   "cell_type": "markdown",
   "metadata": {},
   "source": [
    "Parents are less likely to resign than others"
   ]
  },
  {
   "cell_type": "markdown",
   "metadata": {},
   "source": [
    "Question : How many months after their last promotion are the employees the most likely to leave the company according to the input data ?\n"
   ]
  },
  {
   "cell_type": "code",
   "execution_count": 17,
   "metadata": {},
   "outputs": [
    {
     "name": "stdout",
     "output_type": "stream",
     "text": [
      "In order to not repeat instances :\n"
     ]
    },
    {
     "data": {
      "text/plain": [
       "matricule\n",
       "1       1\n",
       "5       0\n",
       "7       1\n",
       "17      0\n",
       "19      0\n",
       "       ..\n",
       "2651    1\n",
       "2655    0\n",
       "2659    1\n",
       "2660    0\n",
       "2666    0\n",
       "Name: Parent, Length: 408, dtype: int64"
      ]
     },
     "execution_count": 17,
     "metadata": {},
     "output_type": "execute_result"
    }
   ],
   "source": [
    "print(\"In order to not repeat instances :\")\n",
    "df[df[y]==1].groupby(\"matricule\")[x].last()"
   ]
  },
  {
   "cell_type": "code",
   "execution_count": 18,
   "metadata": {
    "colab": {
     "base_uri": "https://localhost:8080/",
     "height": 412
    },
    "id": "jclJ0j8sehJW",
    "outputId": "9e6fca1c-ba4a-4e5f-9dbd-8df2614b0d3a"
   },
   "outputs": [
    {
     "data": {
      "image/png": "[encoded data removed]",
      "text/plain": [
       "<Figure size 720x432 with 1 Axes>"
      ]
     },
     "metadata": {},
     "output_type": "display_data"
    }
   ],
   "source": [
    "\n",
    "x,y = \"Dernière promotion (mois)\", \"demission\"\n",
    "z=  \"matricule\"\n",
    "\n",
    "plt.figure(figsize=(10,6))\n",
    "sns.set_theme()\n",
    "sns.kdeplot(data=df[df[y]==1].groupby(x)[y].value_counts(normalize=True).mul(100), x=x, fill=True, label=\"counting old last promotions\")\n",
    "sns.kdeplot(data=df[df[y]==1].groupby(\"matricule\")[x].last(), fill=True, label=\"last promotion only\")\n",
    "plt.legend()\n",
    "plt.show()"
   ]
  },
  {
   "cell_type": "markdown",
   "metadata": {},
   "source": [
    "Employees with last promotion between 10 months to 40 months are more likeley to resign."
   ]
  },
  {
   "cell_type": "markdown",
   "metadata": {
    "id": "zunL_BKaEZ-v"
   },
   "source": [
    "### Encode the dataset\n",
    "\n",
    "The preliminar data exploration performed helps us discovering all the features in the dataset, their distributions and correlations. The categorical features have also been targeted. The *category_encoders* library will then be called to transform our previous dataset for a future ML implementation. This library is compatible with the *SHAPASH* library for explainability.\n",
    "\n",
    "Two category_encoders are needed for our transformation :\n",
    "- <a href=\"https://contrib.scikit-learn.org/category_encoders/onehot.html\">OneHotEncoder</a>\n",
    "- <a href=\"https://contrib.scikit-learn.org/category_encoders/ordinal.html\">OrdinalEncoder</a>"
   ]
  },
  {
   "cell_type": "code",
   "execution_count": 19,
   "metadata": {
    "id": "U5Q_CIjNEZ-v"
   },
   "outputs": [
    {
     "data": {
      "text/html": [
       "<div>\n",
       "<style scoped>\n",
       "    .dataframe tbody tr th:only-of-type {\n",
       "        vertical-align: middle;\n",
       "    }\n",
       "\n",
       "    .dataframe tbody tr th {\n",
       "        vertical-align: top;\n",
       "    }\n",
       "\n",
       "    .dataframe thead th {\n",
       "        text-align: right;\n",
       "    }\n",
       "</style>\n",
       "<table border=\"1\" class=\"dataframe\">\n",
       "  <thead>\n",
       "    <tr style=\"text-align: right;\">\n",
       "      <th></th>\n",
       "      <th>Famille d'emploi_1</th>\n",
       "      <th>Famille d'emploi_2</th>\n",
       "      <th>Famille d'emploi_3</th>\n",
       "      <th>Famille d'emploi_4</th>\n",
       "      <th>Famille d'emploi_5</th>\n",
       "      <th>Famille d'emploi_6</th>\n",
       "      <th>Famille d'emploi_7</th>\n",
       "      <th>Famille d'emploi_8</th>\n",
       "      <th>Dernière promotion (mois)</th>\n",
       "      <th>Dernière augmentation (mois)</th>\n",
       "      <th>...</th>\n",
       "      <th>Statut marital_2</th>\n",
       "      <th>Statut marital_3</th>\n",
       "      <th>Statut marital_4</th>\n",
       "      <th>Statut marital_5</th>\n",
       "      <th>Statut marital_6</th>\n",
       "      <th>Statut marital_7</th>\n",
       "      <th>Statut marital_8</th>\n",
       "      <th>Statut marital_9</th>\n",
       "      <th>Véhicule</th>\n",
       "      <th>matricule</th>\n",
       "    </tr>\n",
       "  </thead>\n",
       "  <tbody>\n",
       "    <tr>\n",
       "      <th>0</th>\n",
       "      <td>1</td>\n",
       "      <td>0</td>\n",
       "      <td>0</td>\n",
       "      <td>0</td>\n",
       "      <td>0</td>\n",
       "      <td>0</td>\n",
       "      <td>0</td>\n",
       "      <td>0</td>\n",
       "      <td>8.510000</td>\n",
       "      <td>7.900000</td>\n",
       "      <td>...</td>\n",
       "      <td>0</td>\n",
       "      <td>0</td>\n",
       "      <td>0</td>\n",
       "      <td>0</td>\n",
       "      <td>0</td>\n",
       "      <td>0</td>\n",
       "      <td>0</td>\n",
       "      <td>0</td>\n",
       "      <td>0</td>\n",
       "      <td>32</td>\n",
       "    </tr>\n",
       "    <tr>\n",
       "      <th>1</th>\n",
       "      <td>1</td>\n",
       "      <td>0</td>\n",
       "      <td>0</td>\n",
       "      <td>0</td>\n",
       "      <td>0</td>\n",
       "      <td>0</td>\n",
       "      <td>0</td>\n",
       "      <td>0</td>\n",
       "      <td>35.119999</td>\n",
       "      <td>22.690001</td>\n",
       "      <td>...</td>\n",
       "      <td>0</td>\n",
       "      <td>0</td>\n",
       "      <td>0</td>\n",
       "      <td>0</td>\n",
       "      <td>0</td>\n",
       "      <td>0</td>\n",
       "      <td>0</td>\n",
       "      <td>0</td>\n",
       "      <td>1</td>\n",
       "      <td>1890</td>\n",
       "    </tr>\n",
       "    <tr>\n",
       "      <th>2</th>\n",
       "      <td>1</td>\n",
       "      <td>0</td>\n",
       "      <td>0</td>\n",
       "      <td>0</td>\n",
       "      <td>0</td>\n",
       "      <td>0</td>\n",
       "      <td>0</td>\n",
       "      <td>0</td>\n",
       "      <td>25.299999</td>\n",
       "      <td>22.139999</td>\n",
       "      <td>...</td>\n",
       "      <td>1</td>\n",
       "      <td>0</td>\n",
       "      <td>0</td>\n",
       "      <td>0</td>\n",
       "      <td>0</td>\n",
       "      <td>0</td>\n",
       "      <td>0</td>\n",
       "      <td>0</td>\n",
       "      <td>1</td>\n",
       "      <td>1847</td>\n",
       "    </tr>\n",
       "    <tr>\n",
       "      <th>3</th>\n",
       "      <td>1</td>\n",
       "      <td>0</td>\n",
       "      <td>0</td>\n",
       "      <td>0</td>\n",
       "      <td>0</td>\n",
       "      <td>0</td>\n",
       "      <td>0</td>\n",
       "      <td>0</td>\n",
       "      <td>5.240000</td>\n",
       "      <td>5.100000</td>\n",
       "      <td>...</td>\n",
       "      <td>0</td>\n",
       "      <td>1</td>\n",
       "      <td>0</td>\n",
       "      <td>0</td>\n",
       "      <td>0</td>\n",
       "      <td>0</td>\n",
       "      <td>0</td>\n",
       "      <td>0</td>\n",
       "      <td>0</td>\n",
       "      <td>2619</td>\n",
       "    </tr>\n",
       "    <tr>\n",
       "      <th>4</th>\n",
       "      <td>1</td>\n",
       "      <td>0</td>\n",
       "      <td>0</td>\n",
       "      <td>0</td>\n",
       "      <td>0</td>\n",
       "      <td>0</td>\n",
       "      <td>0</td>\n",
       "      <td>0</td>\n",
       "      <td>35.919998</td>\n",
       "      <td>22.840000</td>\n",
       "      <td>...</td>\n",
       "      <td>0</td>\n",
       "      <td>0</td>\n",
       "      <td>0</td>\n",
       "      <td>0</td>\n",
       "      <td>0</td>\n",
       "      <td>0</td>\n",
       "      <td>0</td>\n",
       "      <td>0</td>\n",
       "      <td>1</td>\n",
       "      <td>1963</td>\n",
       "    </tr>\n",
       "  </tbody>\n",
       "</table>\n",
       "<p>5 rows × 62 columns</p>\n",
       "</div>"
      ],
      "text/plain": [
       "   Famille d'emploi_1  Famille d'emploi_2  Famille d'emploi_3  \\\n",
       "0                   1                   0                   0   \n",
       "1                   1                   0                   0   \n",
       "2                   1                   0                   0   \n",
       "3                   1                   0                   0   \n",
       "4                   1                   0                   0   \n",
       "\n",
       "   Famille d'emploi_4  Famille d'emploi_5  Famille d'emploi_6  \\\n",
       "0                   0                   0                   0   \n",
       "1                   0                   0                   0   \n",
       "2                   0                   0                   0   \n",
       "3                   0                   0                   0   \n",
       "4                   0                   0                   0   \n",
       "\n",
       "   Famille d'emploi_7  Famille d'emploi_8  Dernière promotion (mois)  \\\n",
       "0                   0                   0                   8.510000   \n",
       "1                   0                   0                  35.119999   \n",
       "2                   0                   0                  25.299999   \n",
       "3                   0                   0                   5.240000   \n",
       "4                   0                   0                  35.919998   \n",
       "\n",
       "   Dernière augmentation (mois)  ...  Statut marital_2  Statut marital_3  \\\n",
       "0                      7.900000  ...                 0                 0   \n",
       "1                     22.690001  ...                 0                 0   \n",
       "2                     22.139999  ...                 1                 0   \n",
       "3                      5.100000  ...                 0                 1   \n",
       "4                     22.840000  ...                 0                 0   \n",
       "\n",
       "   Statut marital_4  Statut marital_5  Statut marital_6  Statut marital_7  \\\n",
       "0                 0                 0                 0                 0   \n",
       "1                 0                 0                 0                 0   \n",
       "2                 0                 0                 0                 0   \n",
       "3                 0                 0                 0                 0   \n",
       "4                 0                 0                 0                 0   \n",
       "\n",
       "   Statut marital_8  Statut marital_9  Véhicule  matricule  \n",
       "0                 0                 0         0         32  \n",
       "1                 0                 0         1       1890  \n",
       "2                 0                 0         1       1847  \n",
       "3                 0                 0         0       2619  \n",
       "4                 0                 0         1       1963  \n",
       "\n",
       "[5 rows x 62 columns]"
      ]
     },
     "metadata": {},
     "output_type": "display_data"
    }
   ],
   "source": [
    "# Pick the right features to encode\n",
    "ONEHOT_ENC_FT = [\"Famille d'emploi\", \"Etablissement\", \"Statut marital\"]\n",
    "ORDINAL_ENCODER = [\"Niveau hiérarchique\"]\n",
    "\n",
    "onehot_encoder = OneHotEncoder(cols=ONEHOT_ENC_FT)\n",
    "ordinal_encoder = OrdinalEncoder(cols=ORDINAL_ENCODER)\n",
    "\n",
    "################\n",
    "# Fit_transform - create a X_enc dataframe from the X dataframe\n",
    "X_enc = onehot_encoder.fit_transform(X)\n",
    "X_enc = ordinal_encoder.fit_transform(X_enc)\n",
    "\n",
    "################\n",
    "display(X_enc.head())\n",
    "encoders = [onehot_encoder, ordinal_encoder]"
   ]
  },
  {
   "cell_type": "markdown",
   "metadata": {
    "id": "yqT7XQ9WldnE"
   },
   "source": [
    "### PCA\n",
    "\n",
    "Dimensionality reduction is a powerful tool in machine learning to help Data Scientists visualise high-dimensional data in a 2D space. Once the reduction applied, the computational time is also considerably reduced. \n",
    "\n",
    "Data Scientists need to understand the trade off between information loss and simplicity of visualisation."
   ]
  },
  {
   "cell_type": "code",
   "execution_count": 20,
   "metadata": {
    "colab": {
     "base_uri": "https://localhost:8080/",
     "height": 206
    },
    "id": "SxLQswwclnCy",
    "outputId": "ff3c9862-2a0a-444d-e4c2-bff8f961566f"
   },
   "outputs": [
    {
     "data": {
      "text/html": [
       "<div>\n",
       "<style scoped>\n",
       "    .dataframe tbody tr th:only-of-type {\n",
       "        vertical-align: middle;\n",
       "    }\n",
       "\n",
       "    .dataframe tbody tr th {\n",
       "        vertical-align: top;\n",
       "    }\n",
       "\n",
       "    .dataframe thead th {\n",
       "        text-align: right;\n",
       "    }\n",
       "</style>\n",
       "<table border=\"1\" class=\"dataframe\">\n",
       "  <thead>\n",
       "    <tr style=\"text-align: right;\">\n",
       "      <th></th>\n",
       "      <th>principal component 1</th>\n",
       "      <th>principal component 2</th>\n",
       "      <th>demission</th>\n",
       "    </tr>\n",
       "  </thead>\n",
       "  <tbody>\n",
       "    <tr>\n",
       "      <th>0</th>\n",
       "      <td>-1.812284</td>\n",
       "      <td>-0.650765</td>\n",
       "      <td>0</td>\n",
       "    </tr>\n",
       "    <tr>\n",
       "      <th>1</th>\n",
       "      <td>1.788514</td>\n",
       "      <td>-1.509211</td>\n",
       "      <td>0</td>\n",
       "    </tr>\n",
       "    <tr>\n",
       "      <th>2</th>\n",
       "      <td>1.966211</td>\n",
       "      <td>-0.566128</td>\n",
       "      <td>0</td>\n",
       "    </tr>\n",
       "    <tr>\n",
       "      <th>3</th>\n",
       "      <td>-3.533518</td>\n",
       "      <td>0.977363</td>\n",
       "      <td>1</td>\n",
       "    </tr>\n",
       "    <tr>\n",
       "      <th>4</th>\n",
       "      <td>1.538162</td>\n",
       "      <td>-0.763602</td>\n",
       "      <td>0</td>\n",
       "    </tr>\n",
       "  </tbody>\n",
       "</table>\n",
       "</div>"
      ],
      "text/plain": [
       "   principal component 1  principal component 2  demission\n",
       "0              -1.812284              -0.650765          0\n",
       "1               1.788514              -1.509211          0\n",
       "2               1.966211              -0.566128          0\n",
       "3              -3.533518               0.977363          1\n",
       "4               1.538162              -0.763602          0"
      ]
     },
     "execution_count": 20,
     "metadata": {},
     "output_type": "execute_result"
    }
   ],
   "source": [
    "from sklearn.decomposition import PCA\n",
    "from sklearn.preprocessing import StandardScaler\n",
    "\n",
    "scaler1 = StandardScaler()\n",
    "x_pca = scaler1.fit_transform(X_enc)\n",
    "pca = PCA(n_components=2)\n",
    "principal_components = pca.fit_transform(x_pca)\n",
    "pca_df = pd.DataFrame(data = principal_components\n",
    "             , columns = ['principal component 1', 'principal component 2'])\n",
    "pca_df['demission'] = Y\n",
    "pca_df.head()"
   ]
  },
  {
   "cell_type": "code",
   "execution_count": 21,
   "metadata": {
    "colab": {
     "base_uri": "https://localhost:8080/",
     "height": 543
    },
    "id": "aRQPeliCnDNa",
    "outputId": "7e28a64e-81ff-4e31-c904-d4c6a563fc2e"
   },
   "outputs": [
    {
     "data": {
      "text/plain": [
       "[]"
      ]
     },
     "execution_count": 21,
     "metadata": {},
     "output_type": "execute_result"
    },
    {
     "data": {
      "image/png": "[encoded data removed]",
      "text/plain": [
       "<Figure size 576x576 with 1 Axes>"
      ]
     },
     "metadata": {},
     "output_type": "display_data"
    }
   ],
   "source": [
    "import matplotlib.pyplot as plt\n",
    "\n",
    "fig = plt.figure(figsize = (8,8))\n",
    "ax = fig.add_subplot(1,1,1) \n",
    "ax.set_xlabel('Principal Component 1', fontsize = 15)\n",
    "ax.set_ylabel('Principal Component 2', fontsize = 15)\n",
    "ax.set_title('PCA Visualisation', fontsize = 20)\n",
    "demission = [0, 1]\n",
    "color = sns.color_palette().as_hex()\n",
    "\n",
    "for dem, color in zip(demission,color):\n",
    "    indicesToKeep = pca_df[\"demission\"] == dem\n",
    "    ax.scatter(pca_df.loc[indicesToKeep, 'principal component 1']\n",
    "               , pca_df.loc[indicesToKeep, 'principal component 2']\n",
    "               , c = color\n",
    "               , s = 50)\n",
    "ax.legend(['no demission', 'demission'])\n",
    "ax.grid()\n",
    "ax.plot()"
   ]
  },
  {
   "cell_type": "markdown",
   "metadata": {},
   "source": [
    "Question: How do you interpret the results of the PCA? Is this PCA with 2 components reliable for a ML implementation ?"
   ]
  },
  {
   "cell_type": "markdown",
   "metadata": {},
   "source": [
    "- This PCA didn't succed to correctly separated the two classes."
   ]
  },
  {
   "cell_type": "markdown",
   "metadata": {
    "id": "Sew1vJY-06Es"
   },
   "source": [
    "## ML implementation\n",
    "\n",
    "The dataframe is now freshly encoded and ready to be fed to a machine learning model.\n",
    "\n",
    "Nevertheless, a smart train/test split is required. As mentionned in the exploration part, around 2500 employees are gathered in the complete 23000-shaped dataset. A naive train/test split on the encoded dataframe with *scikit-learn* would definitely place the same employees (at different time steps) in the train and in the test splits. Such a split would bias the training of a ML model.\n",
    "\n",
    "The train/test split needs therefore to be executed on the **matricules** to bring together all the time steps for each employees in the same subdataset (train or test)."
   ]
  },
  {
   "cell_type": "markdown",
   "metadata": {
    "id": "eDDMTUMKEZ-x"
   },
   "source": [
    "### Train/test split"
   ]
  },
  {
   "cell_type": "code",
   "execution_count": 22,
   "metadata": {
    "colab": {
     "base_uri": "https://localhost:8080/"
    },
    "id": "gqtdUP5l06Et",
    "outputId": "48e45159-72c2-4d6f-eaf4-a6df9efe2fb5"
   },
   "outputs": [
    {
     "name": "stdout",
     "output_type": "stream",
     "text": [
      "Label distribution in the global dataset : 0.03268115314691369\n",
      "Label distribution in the train dataset : 0.03206823948604438\n",
      "Label distribution in the test dataset : 0.035160515396374756\n"
     ]
    }
   ],
   "source": [
    "test_size = 0.2\n",
    "random_state = 420\n",
    "matricules = X_enc[\"matricule\"].unique()\n",
    "\n",
    "# TO COMPLETE\n",
    "train_mat, test_mat = train_test_split(matricules, test_size =0.2, random_state=420)\n",
    "train_indexes = X_enc[X_enc[\"matricule\"].isin(train_mat)].index\n",
    "test_indexes = X_enc[X_enc[\"matricule\"].isin(test_mat)].index\n",
    "\n",
    "X_train = X_enc.loc[train_indexes]\n",
    "X_test = X_enc.loc[test_indexes]\n",
    "\n",
    "Y_train = Y[train_indexes]\n",
    "Y_test = Y[test_indexes]\n",
    "\n",
    "# Assert distribution is the same\n",
    "\n",
    "_, dist_init = np.unique(Y, return_counts=True)\n",
    "_, dist_train = np.unique(Y_train, return_counts=True)\n",
    "_, dist_test = np.unique(Y_test, return_counts=True)\n",
    "\n",
    "print(\"Label distribution in the global dataset :\", dist_init[1]/dist_init[0])\n",
    "print(\"Label distribution in the train dataset :\", dist_train[1]/dist_train[0])\n",
    "print(\"Label distribution in the test dataset :\", dist_test[1]/dist_test[0])"
   ]
  },
  {
   "cell_type": "code",
   "execution_count": 23,
   "metadata": {
    "id": "6XvaMlh_06Et"
   },
   "outputs": [],
   "source": [
    "# Remove \"matricule\" feature\n",
    "\n",
    "X_train.drop(columns=[\"matricule\"], inplace=True)\n",
    "X_test.drop(columns=[\"matricule\"], inplace=True)"
   ]
  },
  {
   "cell_type": "markdown",
   "metadata": {
    "id": "IaRckKy2EZ-y"
   },
   "source": [
    "### Training with optuna\n",
    "\n",
    "We use Optuna to run hyperparameters optimizations for the model chosen. To correctly use Optuna you need :\n",
    "\n",
    "- A ML model\n",
    "- an *objective* function with *trial* as argument.\n",
    "    - Specify the hyperparameters to optimize (xgb_params for the XGBoost classifier)\n",
    "    - Returns the score of the new training. This score needs either to be minimized (loss) or maximized (metric)\n",
    "\n",
    "You'll find below an example for the Optuna implementation.\n",
    "\n",
    "**A sample weight is recommended when implementing a RandomForestClassifier.** When it comes to XGBoost, it will not be necessary (because corrective weights are assigned during the training process).\n",
    "\n",
    "The score chosen in the hyperparameters research is decisive. Please keep in mind that we are dealing with classification."
   ]
  },
  {
   "cell_type": "markdown",
   "metadata": {
    "id": "7IrLopWKEZ-z"
   },
   "source": [
    "#### Random Forest\n",
    "\n",
    "The Optuna objective function and the study to optimize the hyperparameters are shown in the couple cells below. As mentioned, a sample weight is computed to weight the loss function during the training."
   ]
  },
  {
   "cell_type": "code",
   "execution_count": 24,
   "metadata": {
    "colab": {
     "base_uri": "https://localhost:8080/",
     "height": 52
    },
    "id": "VvwZBK2rsy7Q",
    "outputId": "5011d572-b0fe-436e-87e5-368ff6ce44d0"
   },
   "outputs": [
    {
     "data": {
      "text/plain": [
       "array([ 0.51603412,  0.51603412, 16.09175084, ...,  0.51603412,\n",
       "        0.51603412,  0.51603412])"
      ]
     },
     "metadata": {},
     "output_type": "display_data"
    }
   ],
   "source": [
    "# TO COMPLETE\n",
    "# def compute_sample_weight(y, class_weight=\"balanced\"):\n",
    "#     \"\"\"\n",
    "#     Compute the sample weights for the training dataset.\n",
    "#     \"\"\"\n",
    "#     if class_weight == \"balanced\":\n",
    "#         weights = np.ones(len(y))\n",
    "#         ones = sum(y)\n",
    "#         zeros = len(y) - ones\n",
    "#         weights[y == 0] = 1 / zeros\n",
    "#         weights[y == 1] = 1 / ones\n",
    "#         return weights\n",
    "#     elif class_weight == \"ones\":\n",
    "#         return np.ones(len(y))\n",
    "# sample_weight = compute_sample_weight(Y_train ,class_weight=\"balanced\")\n",
    "\n",
    "sample_weight = compute_sample_weight(class_weight=\"balanced\", y=Y_train)\n",
    "display(sample_weight)"
   ]
  },
  {
   "cell_type": "code",
   "execution_count": 25,
   "metadata": {
    "id": "K5MEim71pxo5"
   },
   "outputs": [],
   "source": [
    "def objective_rf(trial):\n",
    "    rf_params = {\n",
    "        # Parameter space definition\n",
    "        # 'n_estimators' : trial.suggest_int('n_estimators', ..., ...),\n",
    "        \"n_estimators\" : trial.suggest_int('n_estimators', 10, 100),\n",
    "        \"criterion\" : trial.suggest_categorical('criterion', [\"gini\", \"entropy\"]),\n",
    "        \"max_features\" : trial.suggest_categorical('max_features', [\"auto\", \"sqrt\", \"log2\"]),\n",
    "        \"max_depth\" : trial.suggest_int('max_depth', 1, 10),\n",
    "    }\n",
    "\n",
    "    rf_classifier = RandomForestClassifier(random_state=42)\n",
    "    rf_classifier.set_params(**rf_params)\n",
    "    rf_classifier.fit(X_train, Y_train, sample_weight=sample_weight)\n",
    "    Y_pred = rf_classifier.predict(X_test)\n",
    "    score = roc_auc_score(Y_test, Y_pred)\n",
    "    return score\n"
   ]
  },
  {
   "cell_type": "code",
   "execution_count": 26,
   "metadata": {
    "colab": {
     "base_uri": "https://localhost:8080/"
    },
    "id": "fYhDLn41p-S8",
    "outputId": "1ae0d56d-6c10-490a-dbca-c13ae94905fe"
   },
   "outputs": [
    {
     "name": "stderr",
     "output_type": "stream",
     "text": [
      "\u001b[32m[I 2022-04-14 07:03:42,022]\u001b[0m A new study created in memory with name: no-name-6e0057bf-b250-4340-a8dd-3bb6faf33d22\u001b[0m\n",
      "\u001b[32m[I 2022-04-14 07:03:42,938]\u001b[0m Trial 0 finished with value: 0.695766793856371 and parameters: {'n_estimators': 83, 'criterion': 'entropy', 'max_features': 'sqrt', 'max_depth': 5}. Best is trial 0 with value: 0.695766793856371.\u001b[0m\n",
      "\u001b[32m[I 2022-04-14 07:03:43,548]\u001b[0m Trial 1 finished with value: 0.6908564483552376 and parameters: {'n_estimators': 44, 'criterion': 'gini', 'max_features': 'auto', 'max_depth': 6}. Best is trial 0 with value: 0.695766793856371.\u001b[0m\n",
      "\u001b[32m[I 2022-04-14 07:03:43,679]\u001b[0m Trial 2 finished with value: 0.6530752734262139 and parameters: {'n_estimators': 16, 'criterion': 'gini', 'max_features': 'log2', 'max_depth': 2}. Best is trial 0 with value: 0.695766793856371.\u001b[0m\n",
      "\u001b[32m[I 2022-04-14 07:03:45,711]\u001b[0m Trial 3 finished with value: 0.6939525432741154 and parameters: {'n_estimators': 97, 'criterion': 'entropy', 'max_features': 'auto', 'max_depth': 9}. Best is trial 0 with value: 0.695766793856371.\u001b[0m\n",
      "\u001b[32m[I 2022-04-14 07:03:45,904]\u001b[0m Trial 4 finished with value: 0.6643575382620361 and parameters: {'n_estimators': 22, 'criterion': 'entropy', 'max_features': 'auto', 'max_depth': 1}. Best is trial 0 with value: 0.695766793856371.\u001b[0m\n",
      "\u001b[32m[I 2022-04-14 07:03:46,894]\u001b[0m Trial 5 finished with value: 0.6891222282659563 and parameters: {'n_estimators': 69, 'criterion': 'gini', 'max_features': 'sqrt', 'max_depth': 7}. Best is trial 0 with value: 0.695766793856371.\u001b[0m\n",
      "\u001b[32m[I 2022-04-14 07:03:48,037]\u001b[0m Trial 6 finished with value: 0.7000416429853273 and parameters: {'n_estimators': 66, 'criterion': 'entropy', 'max_features': 'auto', 'max_depth': 8}. Best is trial 6 with value: 0.7000416429853273.\u001b[0m\n",
      "\u001b[32m[I 2022-04-14 07:03:49,161]\u001b[0m Trial 7 finished with value: 0.6892795763538379 and parameters: {'n_estimators': 79, 'criterion': 'gini', 'max_features': 'sqrt', 'max_depth': 7}. Best is trial 6 with value: 0.7000416429853273.\u001b[0m\n",
      "\u001b[32m[I 2022-04-14 07:03:49,644]\u001b[0m Trial 8 finished with value: 0.7015798561892734 and parameters: {'n_estimators': 24, 'criterion': 'entropy', 'max_features': 'auto', 'max_depth': 6}. Best is trial 8 with value: 0.7015798561892734.\u001b[0m\n",
      "\u001b[32m[I 2022-04-14 07:03:50,360]\u001b[0m Trial 9 finished with value: 0.6805732082325605 and parameters: {'n_estimators': 38, 'criterion': 'gini', 'max_features': 'log2', 'max_depth': 10}. Best is trial 8 with value: 0.7015798561892734.\u001b[0m\n",
      "\u001b[32m[I 2022-04-14 07:03:50,736]\u001b[0m Trial 10 finished with value: 0.6766964768949254 and parameters: {'n_estimators': 34, 'criterion': 'entropy', 'max_features': 'auto', 'max_depth': 4}. Best is trial 8 with value: 0.7015798561892734.\u001b[0m\n",
      "\u001b[32m[I 2022-04-14 07:03:51,745]\u001b[0m Trial 11 finished with value: 0.6948613641265351 and parameters: {'n_estimators': 56, 'criterion': 'entropy', 'max_features': 'auto', 'max_depth': 8}. Best is trial 8 with value: 0.7015798561892734.\u001b[0m\n",
      "\u001b[32m[I 2022-04-14 07:03:52,400]\u001b[0m Trial 12 finished with value: 0.6834888954299877 and parameters: {'n_estimators': 57, 'criterion': 'entropy', 'max_features': 'auto', 'max_depth': 4}. Best is trial 8 with value: 0.7015798561892734.\u001b[0m\n",
      "\u001b[32m[I 2022-04-14 07:03:53,401]\u001b[0m Trial 13 finished with value: 0.7008060020156833 and parameters: {'n_estimators': 67, 'criterion': 'entropy', 'max_features': 'auto', 'max_depth': 8}. Best is trial 8 with value: 0.7015798561892734.\u001b[0m\n",
      "\u001b[32m[I 2022-04-14 07:03:54,368]\u001b[0m Trial 14 finished with value: 0.6778562408185357 and parameters: {'n_estimators': 46, 'criterion': 'entropy', 'max_features': 'auto', 'max_depth': 10}. Best is trial 8 with value: 0.7015798561892734.\u001b[0m\n",
      "\u001b[32m[I 2022-04-14 07:03:54,709]\u001b[0m Trial 15 finished with value: 0.6932200607960457 and parameters: {'n_estimators': 30, 'criterion': 'entropy', 'max_features': 'log2', 'max_depth': 6}. Best is trial 8 with value: 0.7015798561892734.\u001b[0m\n",
      "\u001b[32m[I 2022-04-14 07:03:54,840]\u001b[0m Trial 16 finished with value: 0.6691105356752879 and parameters: {'n_estimators': 11, 'criterion': 'entropy', 'max_features': 'auto', 'max_depth': 3}. Best is trial 8 with value: 0.7015798561892734.\u001b[0m\n",
      "\u001b[32m[I 2022-04-14 07:03:56,445]\u001b[0m Trial 17 finished with value: 0.692192550653198 and parameters: {'n_estimators': 97, 'criterion': 'entropy', 'max_features': 'auto', 'max_depth': 8}. Best is trial 8 with value: 0.7015798561892734.\u001b[0m\n",
      "\u001b[32m[I 2022-04-14 07:03:57,131]\u001b[0m Trial 18 finished with value: 0.6864018697293477 and parameters: {'n_estimators': 68, 'criterion': 'entropy', 'max_features': 'log2', 'max_depth': 5}. Best is trial 8 with value: 0.7015798561892734.\u001b[0m\n",
      "\u001b[32m[I 2022-04-14 07:03:57,558]\u001b[0m Trial 19 finished with value: 0.6845971142903262 and parameters: {'n_estimators': 24, 'criterion': 'entropy', 'max_features': 'sqrt', 'max_depth': 7}. Best is trial 8 with value: 0.7015798561892734.\u001b[0m\n",
      "\u001b[32m[I 2022-04-14 07:03:58,874]\u001b[0m Trial 20 finished with value: 0.6832772893807675 and parameters: {'n_estimators': 82, 'criterion': 'entropy', 'max_features': 'auto', 'max_depth': 9}. Best is trial 8 with value: 0.7015798561892734.\u001b[0m\n",
      "\u001b[32m[I 2022-04-14 07:04:00,036]\u001b[0m Trial 21 finished with value: 0.7000416429853273 and parameters: {'n_estimators': 66, 'criterion': 'entropy', 'max_features': 'auto', 'max_depth': 8}. Best is trial 8 with value: 0.7015798561892734.\u001b[0m\n",
      "\u001b[32m[I 2022-04-14 07:04:01,017]\u001b[0m Trial 22 finished with value: 0.6830107471456921 and parameters: {'n_estimators': 48, 'criterion': 'entropy', 'max_features': 'auto', 'max_depth': 9}. Best is trial 8 with value: 0.7015798561892734.\u001b[0m\n",
      "\u001b[32m[I 2022-04-14 07:04:02,123]\u001b[0m Trial 23 finished with value: 0.6874843160580506 and parameters: {'n_estimators': 62, 'criterion': 'entropy', 'max_features': 'auto', 'max_depth': 7}. Best is trial 8 with value: 0.7015798561892734.\u001b[0m\n",
      "\u001b[32m[I 2022-04-14 07:04:03,343]\u001b[0m Trial 24 finished with value: 0.7026589113953927 and parameters: {'n_estimators': 77, 'criterion': 'entropy', 'max_features': 'auto', 'max_depth': 6}. Best is trial 24 with value: 0.7026589113953927.\u001b[0m\n",
      "\u001b[32m[I 2022-04-14 07:04:04,433]\u001b[0m Trial 25 finished with value: 0.7028772996897802 and parameters: {'n_estimators': 76, 'criterion': 'entropy', 'max_features': 'auto', 'max_depth': 6}. Best is trial 25 with value: 0.7028772996897802.\u001b[0m\n",
      "\u001b[32m[I 2022-04-14 07:04:05,751]\u001b[0m Trial 26 finished with value: 0.694202808120789 and parameters: {'n_estimators': 89, 'criterion': 'gini', 'max_features': 'auto', 'max_depth': 5}. Best is trial 25 with value: 0.7028772996897802.\u001b[0m\n",
      "\u001b[32m[I 2022-04-14 07:04:06,880]\u001b[0m Trial 27 finished with value: 0.7012393874818744 and parameters: {'n_estimators': 78, 'criterion': 'entropy', 'max_features': 'auto', 'max_depth': 6}. Best is trial 25 with value: 0.7028772996897802.\u001b[0m\n",
      "\u001b[32m[I 2022-04-14 07:04:07,759]\u001b[0m Trial 28 finished with value: 0.6947230063251219 and parameters: {'n_estimators': 74, 'criterion': 'entropy', 'max_features': 'log2', 'max_depth': 4}. Best is trial 25 with value: 0.7028772996897802.\u001b[0m\n",
      "\u001b[32m[I 2022-04-14 07:04:09,017]\u001b[0m Trial 29 finished with value: 0.7004750284515185 and parameters: {'n_estimators': 88, 'criterion': 'entropy', 'max_features': 'sqrt', 'max_depth': 6}. Best is trial 25 with value: 0.7028772996897802.\u001b[0m\n",
      "\u001b[32m[I 2022-04-14 07:04:10,099]\u001b[0m Trial 30 finished with value: 0.6944083101493584 and parameters: {'n_estimators': 88, 'criterion': 'entropy', 'max_features': 'sqrt', 'max_depth': 5}. Best is trial 25 with value: 0.7028772996897802.\u001b[0m\n",
      "\u001b[32m[I 2022-04-14 07:04:11,526]\u001b[0m Trial 31 finished with value: 0.6977580610374935 and parameters: {'n_estimators': 74, 'criterion': 'entropy', 'max_features': 'auto', 'max_depth': 6}. Best is trial 25 with value: 0.7028772996897802.\u001b[0m\n",
      "\u001b[32m[I 2022-04-14 07:04:12,665]\u001b[0m Trial 32 finished with value: 0.7045152118976857 and parameters: {'n_estimators': 75, 'criterion': 'entropy', 'max_features': 'auto', 'max_depth': 6}. Best is trial 32 with value: 0.7045152118976857.\u001b[0m\n",
      "\u001b[32m[I 2022-04-14 07:04:13,804]\u001b[0m Trial 33 finished with value: 0.6980856434790746 and parameters: {'n_estimators': 73, 'criterion': 'entropy', 'max_features': 'auto', 'max_depth': 6}. Best is trial 32 with value: 0.7045152118976857.\u001b[0m\n",
      "\u001b[32m[I 2022-04-14 07:04:14,375]\u001b[0m Trial 34 finished with value: 0.6945303905623702 and parameters: {'n_estimators': 50, 'criterion': 'gini', 'max_features': 'auto', 'max_depth': 5}. Best is trial 32 with value: 0.7045152118976857.\u001b[0m\n",
      "\u001b[32m[I 2022-04-14 07:04:15,268]\u001b[0m Trial 35 finished with value: 0.6878919289926061 and parameters: {'n_estimators': 92, 'criterion': 'entropy', 'max_features': 'auto', 'max_depth': 3}. Best is trial 32 with value: 0.7045152118976857.\u001b[0m\n",
      "\u001b[32m[I 2022-04-14 07:04:16,156]\u001b[0m Trial 36 finished with value: 0.6826316196408394 and parameters: {'n_estimators': 59, 'criterion': 'entropy', 'max_features': 'auto', 'max_depth': 7}. Best is trial 32 with value: 0.7045152118976857.\u001b[0m\n",
      "\u001b[32m[I 2022-04-14 07:04:16,956]\u001b[0m Trial 37 finished with value: 0.687419884728961 and parameters: {'n_estimators': 83, 'criterion': 'gini', 'max_features': 'auto', 'max_depth': 4}. Best is trial 32 with value: 0.7045152118976857.\u001b[0m\n",
      "\u001b[32m[I 2022-04-14 07:04:18,322]\u001b[0m Trial 38 finished with value: 0.7005008009831543 and parameters: {'n_estimators': 99, 'criterion': 'entropy', 'max_features': 'log2', 'max_depth': 7}. Best is trial 32 with value: 0.7045152118976857.\u001b[0m\n",
      "\u001b[32m[I 2022-04-14 07:04:18,906]\u001b[0m Trial 39 finished with value: 0.6938528442701558 and parameters: {'n_estimators': 42, 'criterion': 'gini', 'max_features': 'auto', 'max_depth': 6}. Best is trial 32 with value: 0.7045152118976857.\u001b[0m\n",
      "\u001b[32m[I 2022-04-14 07:04:19,206]\u001b[0m Trial 40 finished with value: 0.6871275699622501 and parameters: {'n_estimators': 53, 'criterion': 'entropy', 'max_features': 'sqrt', 'max_depth': 1}. Best is trial 32 with value: 0.7045152118976857.\u001b[0m\n",
      "\u001b[32m[I 2022-04-14 07:04:20,224]\u001b[0m Trial 41 finished with value: 0.7045633658383736 and parameters: {'n_estimators': 79, 'criterion': 'entropy', 'max_features': 'auto', 'max_depth': 6}. Best is trial 41 with value: 0.7045633658383736.\u001b[0m\n",
      "\u001b[32m[I 2022-04-14 07:04:21,386]\u001b[0m Trial 42 finished with value: 0.7012393874818744 and parameters: {'n_estimators': 78, 'criterion': 'entropy', 'max_features': 'auto', 'max_depth': 6}. Best is trial 41 with value: 0.7045633658383736.\u001b[0m\n",
      "\u001b[32m[I 2022-04-14 07:04:22,645]\u001b[0m Trial 43 finished with value: 0.6839419494071639 and parameters: {'n_estimators': 73, 'criterion': 'entropy', 'max_features': 'auto', 'max_depth': 7}. Best is trial 41 with value: 0.7045633658383736.\u001b[0m\n",
      "\u001b[32m[I 2022-04-14 07:04:23,398]\u001b[0m Trial 44 finished with value: 0.691678456469516 and parameters: {'n_estimators': 61, 'criterion': 'entropy', 'max_features': 'auto', 'max_depth': 5}. Best is trial 41 with value: 0.7045633658383736.\u001b[0m\n",
      "\u001b[32m[I 2022-04-14 07:04:24,458]\u001b[0m Trial 45 finished with value: 0.7003658343043249 and parameters: {'n_estimators': 84, 'criterion': 'entropy', 'max_features': 'auto', 'max_depth': 6}. Best is trial 41 with value: 0.7045633658383736.\u001b[0m\n",
      "\u001b[32m[I 2022-04-14 07:04:26,120]\u001b[0m Trial 46 finished with value: 0.6872659277636632 and parameters: {'n_estimators': 94, 'criterion': 'entropy', 'max_features': 'auto', 'max_depth': 7}. Best is trial 41 with value: 0.7045633658383736.\u001b[0m\n",
      "\u001b[32m[I 2022-04-14 07:04:26,759]\u001b[0m Trial 47 finished with value: 0.6875161926103369 and parameters: {'n_estimators': 63, 'criterion': 'entropy', 'max_features': 'auto', 'max_depth': 4}. Best is trial 41 with value: 0.7045633658383736.\u001b[0m\n",
      "\u001b[32m[I 2022-04-14 07:04:27,013]\u001b[0m Trial 48 finished with value: 0.684221377908057 and parameters: {'n_estimators': 19, 'criterion': 'gini', 'max_features': 'auto', 'max_depth': 5}. Best is trial 41 with value: 0.7045633658383736.\u001b[0m\n",
      "\u001b[32m[I 2022-04-14 07:04:27,931]\u001b[0m Trial 49 finished with value: 0.6982687640985921 and parameters: {'n_estimators': 70, 'criterion': 'entropy', 'max_features': 'log2', 'max_depth': 7}. Best is trial 41 with value: 0.7045633658383736.\u001b[0m\n",
      "\u001b[32m[I 2022-04-14 07:04:29,015]\u001b[0m Trial 50 finished with value: 0.6956575997091773 and parameters: {'n_estimators': 79, 'criterion': 'entropy', 'max_features': 'auto', 'max_depth': 5}. Best is trial 41 with value: 0.7045633658383736.\u001b[0m\n",
      "\u001b[32m[I 2022-04-14 07:04:30,506]\u001b[0m Trial 51 finished with value: 0.7012393874818744 and parameters: {'n_estimators': 78, 'criterion': 'entropy', 'max_features': 'auto', 'max_depth': 6}. Best is trial 41 with value: 0.7045633658383736.\u001b[0m\n",
      "\u001b[32m[I 2022-04-14 07:04:31,610]\u001b[0m Trial 52 finished with value: 0.7011301933346807 and parameters: {'n_estimators': 83, 'criterion': 'entropy', 'max_features': 'auto', 'max_depth': 6}. Best is trial 41 with value: 0.7045633658383736.\u001b[0m\n",
      "\u001b[32m[I 2022-04-14 07:04:32,361]\u001b[0m Trial 53 finished with value: 0.6982172190353205 and parameters: {'n_estimators': 77, 'criterion': 'entropy', 'max_features': 'auto', 'max_depth': 5}. Best is trial 41 with value: 0.7045633658383736.\u001b[0m\n",
      "\u001b[32m[I 2022-04-14 07:04:33,186]\u001b[0m Trial 54 finished with value: 0.6939973060922195 and parameters: {'n_estimators': 70, 'criterion': 'entropy', 'max_features': 'auto', 'max_depth': 6}. Best is trial 41 with value: 0.7045633658383736.\u001b[0m\n",
      "\u001b[32m[I 2022-04-14 07:04:33,606]\u001b[0m Trial 55 finished with value: 0.6934065725381467 and parameters: {'n_estimators': 30, 'criterion': 'entropy', 'max_features': 'auto', 'max_depth': 8}. Best is trial 41 with value: 0.7045633658383736.\u001b[0m\n",
      "\u001b[32m[I 2022-04-14 07:04:34,653]\u001b[0m Trial 56 finished with value: 0.6999290577155499 and parameters: {'n_estimators': 85, 'criterion': 'entropy', 'max_features': 'sqrt', 'max_depth': 6}. Best is trial 41 with value: 0.7045633658383736.\u001b[0m\n",
      "\u001b[32m[I 2022-04-14 07:04:35,503]\u001b[0m Trial 57 finished with value: 0.6857372097029513 and parameters: {'n_estimators': 66, 'criterion': 'entropy', 'max_features': 'auto', 'max_depth': 7}. Best is trial 41 with value: 0.7045633658383736.\u001b[0m\n",
      "\u001b[32m[I 2022-04-14 07:04:35,647]\u001b[0m Trial 58 finished with value: 0.677534762397605 and parameters: {'n_estimators': 12, 'criterion': 'entropy', 'max_features': 'auto', 'max_depth': 5}. Best is trial 41 with value: 0.7045633658383736.\u001b[0m\n",
      "\u001b[32m[I 2022-04-14 07:04:36,501]\u001b[0m Trial 59 finished with value: 0.6994088595112171 and parameters: {'n_estimators': 80, 'criterion': 'entropy', 'max_features': 'log2', 'max_depth': 7}. Best is trial 41 with value: 0.7045633658383736.\u001b[0m\n"
     ]
    }
   ],
   "source": [
    "study = optuna.create_study(direction=\"maximize\")\n",
    "full_objective = lambda trial: objective_rf(trial)\n",
    "study.optimize(full_objective, n_trials=60, timeout=600)\n",
    "rf_params = study.best_trial.params"
   ]
  },
  {
   "cell_type": "code",
   "execution_count": null,
   "metadata": {
    "colab": {
     "base_uri": "https://localhost:8080/",
     "height": 375
    },
    "id": "bnaAollvqQhb",
    "outputId": "4bfe156e-38f0-4bfa-ae93-fe2a8ffb9829"
   },
   "outputs": [],
   "source": [
    "rf_clf = RandomForestClassifier(random_state=42)\n",
    "rf_clf.set_params(**rf_params)\n",
    "rf_clf.fit(X_train, Y_train, sample_weight=None)\n",
    "plot_confusion_matrix(rf_clf, X_test, Y_test)"
   ]
  },
  {
   "cell_type": "markdown",
   "metadata": {
    "id": "Avza_OCmtYPi"
   },
   "source": [
    "Question : Comment the confusion matrix for the Random Forest Classifier. How many false positives ?"
   ]
  },
  {
   "cell_type": "markdown",
   "metadata": {},
   "source": [
    "Question : Compute the precision and recall for the resignation class (1)."
   ]
  },
  {
   "cell_type": "markdown",
   "metadata": {
    "id": "i0ZFEmjoEZ-z"
   },
   "source": [
    "#### XGBoost\n",
    "\n",
    "Let's use XGBoost to improve the RandomForest performances. The boosting method automatically assigns corrective weights to mispredicted data samples. "
   ]
  },
  {
   "cell_type": "code",
   "execution_count": null,
   "metadata": {
    "id": "4jWp8SO506Eu"
   },
   "outputs": [],
   "source": [
    "# TO COMPLETE\n",
    "\n",
    "def objective(trial):\n",
    "    xgb_params = {\n",
    "            # Parameter space definition\n",
    "            # 'n_estimators' : trial.suggest_int('n_estimators', 50, 100),\n",
    "            # ...\n",
    "            # ...\n",
    "            # .... \n",
    "        }\n",
    "\n",
    "    xgb_classifier = XGBClassifier(objective='binary:logistic', eval_metric='auc', use_label_encoder=False)\n",
    "    xgb_classifier.set_params(**xgb_params)\n",
    "    xgb_classifier.fit(X_train, Y_train, sample_weight=None)\n",
    "    Y_pred = xgb_classifier.predict(X_test)\n",
    "    # score= ...\n",
    "    return score\n",
    "\n",
    "# study = optuna.create_study(direction=\"minimize\") for a loss scoring\n",
    "study = optuna.create_study(direction=\"maximize\")\n",
    "full_objective = lambda trial: objective(trial)\n",
    "study.optimize(full_objective, n_trials=60, timeout=600)\n",
    "xgb_params = study.best_trial.params"
   ]
  },
  {
   "cell_type": "code",
   "execution_count": null,
   "metadata": {
    "colab": {
     "base_uri": "https://localhost:8080/"
    },
    "id": "cvkfcti006Ev",
    "outputId": "fb740c13-1601-426a-8284-673f55365fcf"
   },
   "outputs": [],
   "source": [
    "xgb_params"
   ]
  },
  {
   "cell_type": "markdown",
   "metadata": {
    "id": "DkSVPGRaEZ-0"
   },
   "source": [
    "Once the hyperparameter search is over, train a classifier with the best parameters on the complete dataset."
   ]
  },
  {
   "cell_type": "code",
   "execution_count": null,
   "metadata": {
    "colab": {
     "base_uri": "https://localhost:8080/"
    },
    "id": "q4adIYd806Eu",
    "outputId": "6764d7e6-45ca-4d72-8b5b-30ab135dd921"
   },
   "outputs": [],
   "source": [
    "clf = XGBClassifier(objective=\"binary:logistic\", use_label_encoder=False)\n",
    "clf.set_params(**xgb_params)\n",
    "clf.fit(X_enc.drop(columns=[\"matricule\"]), Y, sample_weight=None)"
   ]
  },
  {
   "cell_type": "code",
   "execution_count": null,
   "metadata": {
    "colab": {
     "base_uri": "https://localhost:8080/",
     "height": 392
    },
    "id": "Z_cSPz64wjMH",
    "outputId": "ea7273a8-161f-4c94-f80a-f4456afd3b02"
   },
   "outputs": [],
   "source": [
    "plot_confusion_matrix(clf, X_enc.drop(columns=['matricule']), Y)"
   ]
  },
  {
   "cell_type": "markdown",
   "metadata": {},
   "source": [
    "Question : Compare this new confusion matrix to the RF one. Give the precision and recall for the class 1."
   ]
  },
  {
   "cell_type": "markdown",
   "metadata": {
    "id": "Tvo99UXLEZ-0"
   },
   "source": [
    "Our model has trained on the full dataset. Let's try to understand how the classification was performed, which features are the most relevant, how they contribute to the final decision ..."
   ]
  },
  {
   "cell_type": "markdown",
   "metadata": {
    "id": "DMkcPXO-06Ex"
   },
   "source": [
    "## Explainability with Shapley values\n",
    "\n",
    "<a href=\"https://christophm.github.io/interpretable-ml-book/shapley.html\">Shapley values</a> are common coefficients to quantify the contributions of each features in the predictions of the model. Theoretically, *coalitions* are made to observe the influence of a selected feature in the prediction. The contribution is computed by comparing the predictions with and without this feature.\n",
    "\n",
    "The computation can take a while, especially on large dataset. The contribution computation is thus often made on random subsets."
   ]
  },
  {
   "cell_type": "code",
   "execution_count": null,
   "metadata": {
    "colab": {
     "base_uri": "https://localhost:8080/"
    },
    "id": "QC7qf19306Ex",
    "outputId": "c7c61e8e-b5e7-4013-8abe-9b5c81504a14"
   },
   "outputs": [],
   "source": [
    "from shapash.explainer.smart_explainer import SmartExplainer\n",
    "\n",
    "input_ex = X_enc.drop(columns=[\"matricule\"])\n",
    "\n",
    "xpl = SmartExplainer(label_dict={0: 'Pas de démission', 1:'Démission'})\n",
    "xpl.compile(\n",
    "        x=input_ex,\n",
    "        preprocessing=encoders,\n",
    "        model=clf\n",
    "        )"
   ]
  },
  {
   "cell_type": "code",
   "execution_count": null,
   "metadata": {
    "colab": {
     "base_uri": "https://localhost:8080/",
     "height": 637
    },
    "id": "3YQzJqkE06Ex",
    "outputId": "783a63a1-0688-4372-df78-07799559f840"
   },
   "outputs": [],
   "source": [
    "xpl.plot.contribution_plot(col=\"Âge (années)\")"
   ]
  },
  {
   "cell_type": "markdown",
   "metadata": {},
   "source": [
    "Question : Compare the contributions for young and old employees. Did you expect such a difference ? Why ?"
   ]
  },
  {
   "cell_type": "markdown",
   "metadata": {},
   "source": [
    "Question : A colored scale is displayed in the right part of the graph, representing a \"Predicted probability\" for demission. How does the predicted probability evolve with the SHAP contribution ? What do you conclude about the importance of the \"Âge (années)\" feature ?"
   ]
  },
  {
   "cell_type": "code",
   "execution_count": null,
   "metadata": {
    "colab": {
     "base_uri": "https://localhost:8080/",
     "height": 637
    },
    "id": "AGzXunrq06Ey",
    "outputId": "b3dc8fda-7cea-470f-d379-566cc0f97df7"
   },
   "outputs": [],
   "source": [
    "xpl.plot.contribution_plot(col=\"Ancienneté groupe (années)\")"
   ]
  },
  {
   "cell_type": "markdown",
   "metadata": {},
   "source": [
    "Question : Explain the \"Ancienneté groupe (années)\" contribution plot. How is it correlated with the \"Âge (années)\" contribution plot?"
   ]
  },
  {
   "cell_type": "markdown",
   "metadata": {},
   "source": [
    "Question : What can you infer about the feature importance ?"
   ]
  },
  {
   "cell_type": "code",
   "execution_count": null,
   "metadata": {
    "colab": {
     "base_uri": "https://localhost:8080/",
     "height": 637
    },
    "id": "u9p3BQ1V06Ey",
    "outputId": "b2a07158-2043-44fd-9d8b-d31a5de5c315"
   },
   "outputs": [],
   "source": [
    "xpl.plot.contribution_plot(col=\"Statut marital\")"
   ]
  },
  {
   "cell_type": "markdown",
   "metadata": {
    "id": "I8P2H3HP1MA6"
   },
   "source": [
    "Question : What do you notice about the median contributions of all the values for the \"Statut marital\" feature ? "
   ]
  },
  {
   "cell_type": "markdown",
   "metadata": {},
   "source": [
    "Question : Take a look at the \"Célibataire\" and \"Marié(e)\" contributions. What do you think ? What do you conclude about the relevance of this feature during the training process ?"
   ]
  },
  {
   "cell_type": "code",
   "execution_count": null,
   "metadata": {
    "colab": {
     "base_uri": "https://localhost:8080/",
     "height": 637
    },
    "id": "ELqvO-Xy4sJs",
    "outputId": "35aee57d-9c67-487b-9688-1c8b3ce6b35b"
   },
   "outputs": [],
   "source": [
    "xpl.plot.contribution_plot(col=\"Parent\")"
   ]
  },
  {
   "cell_type": "markdown",
   "metadata": {},
   "source": [
    "Question : Explain the contribution plot. Does this contribution plot makes sense ? (in your opinion and compared to the input data ?)"
   ]
  },
  {
   "cell_type": "code",
   "execution_count": null,
   "metadata": {
    "colab": {
     "base_uri": "https://localhost:8080/",
     "height": 537
    },
    "id": "e1Pjasi806Ey",
    "outputId": "5bfbe1e5-9aeb-4aea-8733-482849382892"
   },
   "outputs": [],
   "source": [
    "xpl.plot.features_importance()"
   ]
  },
  {
   "cell_type": "markdown",
   "metadata": {},
   "source": [
    "Question : The feature importance is finally displayed. How do you build such a graph having computed the contributions of every feature independantly ?"
   ]
  },
  {
   "cell_type": "markdown",
   "metadata": {
    "id": "F5zmxOzH54Pf"
   },
   "source": [
    "## Feature selection for model's improvements\n",
    "\n",
    "Now that the feature importances are displayed, one can select the decisive ones, study their contributions to the predictions of the model. \n",
    "\n",
    "We propose to select features according to their contribution and feature importance plots, in order to improve the baseline of the previous XGBoost model.\n",
    "\n",
    "**Previous baseline : AUC_ROC_CURVE = 0.701**"
   ]
  },
  {
   "cell_type": "markdown",
   "metadata": {},
   "source": [
    "Question : According to the previous contribution plots, which features are to be removed to try to improve the baseline ? (other contribution plots can be displayed)"
   ]
  },
  {
   "cell_type": "code",
   "execution_count": null,
   "metadata": {
    "colab": {
     "base_uri": "https://localhost:8080/",
     "height": 529
    },
    "id": "hm77kg3d5QXx",
    "outputId": "696071d2-2898-4f2a-be01-4e5016692fb2"
   },
   "outputs": [],
   "source": [
    "with open(PATH, 'rb') as read_file:\n",
    "    X, Y = pickle.load(read_file)\n",
    "display(X.head())\n",
    "\n",
    "# TO COMPLETE\n",
    "selected_columns = [\"...\", \"...\"]\n",
    "\n",
    "selected_columns.append('matricule')\n",
    "X = X[selected_columns]\n",
    "display(X.head())"
   ]
  },
  {
   "cell_type": "code",
   "execution_count": null,
   "metadata": {
    "colab": {
     "base_uri": "https://localhost:8080/"
    },
    "id": "Wl_HYMrH5Yq6",
    "outputId": "60a78b3a-15fd-4a27-c320-69b24977d46d"
   },
   "outputs": [],
   "source": [
    "from category_encoders import OneHotEncoder, OrdinalEncoder as OrdinalEncoder_ce\n",
    "\n",
    "# TO COMPLETE\n",
    "ONEHOT_ENC_FT = [\"...\"]\n",
    "\n",
    "onehot_encoder = OneHotEncoder(cols=ONEHOT_ENC_FT).fit(X)\n",
    "X_enc = onehot_encoder.transform(X)\n",
    "\n",
    "encoders = [onehot_encoder]"
   ]
  },
  {
   "cell_type": "code",
   "execution_count": null,
   "metadata": {
    "colab": {
     "base_uri": "https://localhost:8080/"
    },
    "id": "qJL9KiaX5QZ-",
    "outputId": "c8188443-b855-454f-fad2-9e4cf51946c8"
   },
   "outputs": [],
   "source": [
    "# Train, test par matricule\n",
    "test_size = 0.2\n",
    "matricules = X_enc[\"matricule\"].unique()\n",
    "\n",
    "mat_train, mat_test = train_test_split(matricules, test_size=0.2, random_state=420)\n",
    "idx_mat_train = X_enc[X_enc[\"matricule\"].isin(mat_train)].index\n",
    "idx_mat_test = X_enc[X_enc[\"matricule\"].isin(mat_test)].index\n",
    "\n",
    "X_train = X_enc.loc[idx_mat_train].reset_index(drop=True)\n",
    "X_test = X_enc.loc[idx_mat_test].reset_index(drop=True)\n",
    "\n",
    "Y_train = Y[idx_mat_train]\n",
    "Y_test = Y[idx_mat_test]\n",
    "\n",
    "# Assert distribution is the same\n",
    "\n",
    "_, dist_init = np.unique(Y, return_counts=True)\n",
    "_, dist_train = np.unique(Y_train, return_counts=True)\n",
    "_, dist_test = np.unique(Y_test, return_counts=True)\n",
    "\n",
    "print(dist_init[1]/dist_init[0])\n",
    "print(dist_train[1]/dist_train[0])\n",
    "print(dist_test[1]/dist_test[0])"
   ]
  },
  {
   "cell_type": "code",
   "execution_count": null,
   "metadata": {
    "id": "Nlnz5u7M5QcB"
   },
   "outputs": [],
   "source": [
    "# Remove \"matricule\" feature\n",
    "\n",
    "X_train.drop(columns=[\"matricule\"], inplace=True)\n",
    "X_test.drop(columns=[\"matricule\"], inplace=True)"
   ]
  },
  {
   "cell_type": "code",
   "execution_count": null,
   "metadata": {
    "id": "6uE9jnXf5jYf"
   },
   "outputs": [],
   "source": [
    "def objective(trial):\n",
    "    xgb_params = {\n",
    "            # Parameter space definition\n",
    "            # ...\n",
    "            # ...\n",
    "        }\n",
    "\n",
    "    xgb_classifier = XGBClassifier(objective='binary:logistic', eval_metric='logloss', use_label_encoder=False)\n",
    "    xgb_classifier.set_params(**xgb_params)\n",
    "    xgb_classifier.fit(X_train, Y_train, sample_weight=None)\n",
    "    Y_pred = xgb_classifier.predict(X_test)\n",
    "    # score = \n",
    "    return score"
   ]
  },
  {
   "cell_type": "code",
   "execution_count": null,
   "metadata": {
    "colab": {
     "base_uri": "https://localhost:8080/"
    },
    "id": "Md8y06VE5jaa",
    "outputId": "8b32eeba-a0e7-46e6-9df8-b2846e771d22"
   },
   "outputs": [],
   "source": [
    "study = optuna.create_study(direction=\"maximize\")\n",
    "full_objective = lambda trial: objective(trial)\n",
    "study.optimize(full_objective, n_trials=60, timeout=600)\n",
    "xgb_params = study.best_trial.params"
   ]
  },
  {
   "cell_type": "markdown",
   "metadata": {},
   "source": [
    "Question : Dit it improve the previous score compared to the baseline ?\n",
    "\n",
    "If not, consider other features to remove, or try to consider the correlations between the input features to avoid redundancy during the training process..."
   ]
  }
 ],
 "metadata": {
  "colab": {
   "collapsed_sections": [],
   "name": "XAI_EDA_Vadim.ipynb",
   "provenance": []
  },
  "interpreter": {
   "hash": "302fc1bf4fdb6085f0615f7983cc44b97986a42cc2adb720a797e0edcc56a185"
  },
  "kernelspec": {
   "display_name": "Python 3.8.8 64-bit ('venv': venv)",
   "name": "python3"
  },
  "language_info": {
   "codemirror_mode": {
    "name": "ipython",
    "version": 3
   },
   "file_extension": ".py",
   "mimetype": "text/x-python",
   "name": "python",
   "nbconvert_exporter": "python",
   "pygments_lexer": "ipython3",
   "version": "3.9.9"
  }
 },
 "nbformat": 4,
 "nbformat_minor": 2
}
